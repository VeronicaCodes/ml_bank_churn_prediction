{
 "cells": [
  {
   "cell_type": "markdown",
   "metadata": {},
   "source": [
    "# Bank customer churn prediction"
   ]
  },
  {
   "cell_type": "markdown",
   "metadata": {},
   "source": [
    "Beta Bank customers are leaving and the bankers figured it’s cheaper to save the existing customers rather than attract the new ones.\n",
    "\n",
    "The goal is to predict whether a customer will leave the bank soon. The Bank provided us with the historical data on clients’ past behavior and termination of contracts with the bank.\n",
    "It is necessary to build a model with the maximum possible F1 score. The bank's requirement for F1 score is at least 0.59 (59%).\n",
    "\n",
    "Data source: [https://www.kaggle.com/barelydedicated/bank-customer-churn-modeling](https://www.kaggle.com/barelydedicated/bank-customer-churn-modeling)"
   ]
  },
  {
   "cell_type": "markdown",
   "metadata": {},
   "source": [
    "# Data Description"
   ]
  },
  {
   "cell_type": "markdown",
   "metadata": {},
   "source": [
    "**Feature variables**\n",
    "<br>RowNumber - row index in data\n",
    "<br>CustomerId — unique customer ID\n",
    "<br>Surname - client's surname\n",
    "<br>CreditScore - credit rating\n",
    "<br>Geography - country of residence\n",
    "<br>Gender - client's gender\n",
    "<br>Age - client's age\n",
    "<br>Tenure — how many years a person has been a bank client\n",
    "<br>Balance — account balance\n",
    "<br>NumOfProducts — number of bank products used by the client\n",
    "<br>HasCrCard - the presence of a credit card\n",
    "<br>IsActiveMember - cis the client active member\n",
    "<br>EstimatedSalary - estimated salary\n",
    "\n",
    "**Target variable**\n",
    "<br>Exited - did the client leave the bank"
   ]
  },
  {
   "cell_type": "markdown",
   "metadata": {},
   "source": [
    "# Studying general information"
   ]
  },
  {
   "cell_type": "code",
   "execution_count": 332,
   "metadata": {},
   "outputs": [],
   "source": [
    "# importing libraries\n",
    "import pandas as pd\n",
    "import numpy as np\n",
    "from sklearn.tree import DecisionTreeClassifier\n",
    "from sklearn.ensemble import RandomForestClassifier\n",
    "from sklearn.linear_model import LogisticRegression\n",
    "from sklearn.ensemble import GradientBoostingClassifier\n",
    "from sklearn.model_selection import train_test_split\n",
    "from sklearn.metrics import f1_score\n",
    "import matplotlib.pyplot as plt\n",
    "from sklearn.utils import shuffle\n",
    "from statsmodels.stats.outliers_influence import variance_inflation_factor\n",
    "from sklearn.metrics import roc_auc_score\n",
    "from sklearn.metrics import roc_curve "
   ]
  },
  {
   "cell_type": "code",
   "execution_count": 333,
   "metadata": {},
   "outputs": [],
   "source": [
    "# opening the data file\n",
    "df = pd.read_csv('Churn.csv')"
   ]
  },
  {
   "cell_type": "code",
   "execution_count": 334,
   "metadata": {},
   "outputs": [
    {
     "data": {
      "text/html": [
       "<div>\n",
       "<style scoped>\n",
       "    .dataframe tbody tr th:only-of-type {\n",
       "        vertical-align: middle;\n",
       "    }\n",
       "\n",
       "    .dataframe tbody tr th {\n",
       "        vertical-align: top;\n",
       "    }\n",
       "\n",
       "    .dataframe thead th {\n",
       "        text-align: right;\n",
       "    }\n",
       "</style>\n",
       "<table border=\"1\" class=\"dataframe\">\n",
       "  <thead>\n",
       "    <tr style=\"text-align: right;\">\n",
       "      <th></th>\n",
       "      <th>RowNumber</th>\n",
       "      <th>CustomerId</th>\n",
       "      <th>Surname</th>\n",
       "      <th>CreditScore</th>\n",
       "      <th>Geography</th>\n",
       "      <th>Gender</th>\n",
       "      <th>Age</th>\n",
       "      <th>Tenure</th>\n",
       "      <th>Balance</th>\n",
       "      <th>NumOfProducts</th>\n",
       "      <th>HasCrCard</th>\n",
       "      <th>IsActiveMember</th>\n",
       "      <th>EstimatedSalary</th>\n",
       "      <th>Exited</th>\n",
       "    </tr>\n",
       "  </thead>\n",
       "  <tbody>\n",
       "    <tr>\n",
       "      <th>0</th>\n",
       "      <td>1</td>\n",
       "      <td>15634602</td>\n",
       "      <td>Hargrave</td>\n",
       "      <td>619</td>\n",
       "      <td>France</td>\n",
       "      <td>Female</td>\n",
       "      <td>42</td>\n",
       "      <td>2.0</td>\n",
       "      <td>0.00</td>\n",
       "      <td>1</td>\n",
       "      <td>1</td>\n",
       "      <td>1</td>\n",
       "      <td>101348.88</td>\n",
       "      <td>1</td>\n",
       "    </tr>\n",
       "    <tr>\n",
       "      <th>1</th>\n",
       "      <td>2</td>\n",
       "      <td>15647311</td>\n",
       "      <td>Hill</td>\n",
       "      <td>608</td>\n",
       "      <td>Spain</td>\n",
       "      <td>Female</td>\n",
       "      <td>41</td>\n",
       "      <td>1.0</td>\n",
       "      <td>83807.86</td>\n",
       "      <td>1</td>\n",
       "      <td>0</td>\n",
       "      <td>1</td>\n",
       "      <td>112542.58</td>\n",
       "      <td>0</td>\n",
       "    </tr>\n",
       "    <tr>\n",
       "      <th>2</th>\n",
       "      <td>3</td>\n",
       "      <td>15619304</td>\n",
       "      <td>Onio</td>\n",
       "      <td>502</td>\n",
       "      <td>France</td>\n",
       "      <td>Female</td>\n",
       "      <td>42</td>\n",
       "      <td>8.0</td>\n",
       "      <td>159660.80</td>\n",
       "      <td>3</td>\n",
       "      <td>1</td>\n",
       "      <td>0</td>\n",
       "      <td>113931.57</td>\n",
       "      <td>1</td>\n",
       "    </tr>\n",
       "    <tr>\n",
       "      <th>3</th>\n",
       "      <td>4</td>\n",
       "      <td>15701354</td>\n",
       "      <td>Boni</td>\n",
       "      <td>699</td>\n",
       "      <td>France</td>\n",
       "      <td>Female</td>\n",
       "      <td>39</td>\n",
       "      <td>1.0</td>\n",
       "      <td>0.00</td>\n",
       "      <td>2</td>\n",
       "      <td>0</td>\n",
       "      <td>0</td>\n",
       "      <td>93826.63</td>\n",
       "      <td>0</td>\n",
       "    </tr>\n",
       "    <tr>\n",
       "      <th>4</th>\n",
       "      <td>5</td>\n",
       "      <td>15737888</td>\n",
       "      <td>Mitchell</td>\n",
       "      <td>850</td>\n",
       "      <td>Spain</td>\n",
       "      <td>Female</td>\n",
       "      <td>43</td>\n",
       "      <td>2.0</td>\n",
       "      <td>125510.82</td>\n",
       "      <td>1</td>\n",
       "      <td>1</td>\n",
       "      <td>1</td>\n",
       "      <td>79084.10</td>\n",
       "      <td>0</td>\n",
       "    </tr>\n",
       "  </tbody>\n",
       "</table>\n",
       "</div>"
      ],
      "text/plain": [
       "   RowNumber  CustomerId   Surname  CreditScore Geography  Gender  Age  \\\n",
       "0          1    15634602  Hargrave          619    France  Female   42   \n",
       "1          2    15647311      Hill          608     Spain  Female   41   \n",
       "2          3    15619304      Onio          502    France  Female   42   \n",
       "3          4    15701354      Boni          699    France  Female   39   \n",
       "4          5    15737888  Mitchell          850     Spain  Female   43   \n",
       "\n",
       "   Tenure    Balance  NumOfProducts  HasCrCard  IsActiveMember  \\\n",
       "0     2.0       0.00              1          1               1   \n",
       "1     1.0   83807.86              1          0               1   \n",
       "2     8.0  159660.80              3          1               0   \n",
       "3     1.0       0.00              2          0               0   \n",
       "4     2.0  125510.82              1          1               1   \n",
       "\n",
       "   EstimatedSalary  Exited  \n",
       "0        101348.88       1  \n",
       "1        112542.58       0  \n",
       "2        113931.57       1  \n",
       "3         93826.63       0  \n",
       "4         79084.10       0  "
      ]
     },
     "execution_count": 334,
     "metadata": {},
     "output_type": "execute_result"
    }
   ],
   "source": [
    "# printing first 5 lines of data\n",
    "df.head()"
   ]
  },
  {
   "cell_type": "code",
   "execution_count": 335,
   "metadata": {},
   "outputs": [
    {
     "name": "stdout",
     "output_type": "stream",
     "text": [
      "<class 'pandas.core.frame.DataFrame'>\n",
      "RangeIndex: 10000 entries, 0 to 9999\n",
      "Data columns (total 14 columns):\n",
      " #   Column           Non-Null Count  Dtype  \n",
      "---  ------           --------------  -----  \n",
      " 0   RowNumber        10000 non-null  int64  \n",
      " 1   CustomerId       10000 non-null  int64  \n",
      " 2   Surname          10000 non-null  object \n",
      " 3   CreditScore      10000 non-null  int64  \n",
      " 4   Geography        10000 non-null  object \n",
      " 5   Gender           10000 non-null  object \n",
      " 6   Age              10000 non-null  int64  \n",
      " 7   Tenure           9091 non-null   float64\n",
      " 8   Balance          10000 non-null  float64\n",
      " 9   NumOfProducts    10000 non-null  int64  \n",
      " 10  HasCrCard        10000 non-null  int64  \n",
      " 11  IsActiveMember   10000 non-null  int64  \n",
      " 12  EstimatedSalary  10000 non-null  float64\n",
      " 13  Exited           10000 non-null  int64  \n",
      "dtypes: float64(3), int64(8), object(3)\n",
      "memory usage: 1.1+ MB\n"
     ]
    }
   ],
   "source": [
    "# looking at the general information\n",
    "df.info()"
   ]
  },
  {
   "cell_type": "code",
   "execution_count": 336,
   "metadata": {},
   "outputs": [
    {
     "data": {
      "text/plain": [
       "909"
      ]
     },
     "execution_count": 336,
     "metadata": {},
     "output_type": "execute_result"
    }
   ],
   "source": [
    "# finding the number of the missing values in 'Tenure'\n",
    "df['Tenure'].isnull().sum()"
   ]
  },
  {
   "cell_type": "code",
   "execution_count": 337,
   "metadata": {},
   "outputs": [
    {
     "data": {
      "text/html": [
       "<div>\n",
       "<style scoped>\n",
       "    .dataframe tbody tr th:only-of-type {\n",
       "        vertical-align: middle;\n",
       "    }\n",
       "\n",
       "    .dataframe tbody tr th {\n",
       "        vertical-align: top;\n",
       "    }\n",
       "\n",
       "    .dataframe thead th {\n",
       "        text-align: right;\n",
       "    }\n",
       "</style>\n",
       "<table border=\"1\" class=\"dataframe\">\n",
       "  <thead>\n",
       "    <tr style=\"text-align: right;\">\n",
       "      <th></th>\n",
       "      <th>count</th>\n",
       "      <th>mean</th>\n",
       "      <th>std</th>\n",
       "      <th>min</th>\n",
       "      <th>25%</th>\n",
       "      <th>50%</th>\n",
       "      <th>75%</th>\n",
       "      <th>max</th>\n",
       "    </tr>\n",
       "  </thead>\n",
       "  <tbody>\n",
       "    <tr>\n",
       "      <th>RowNumber</th>\n",
       "      <td>10000.0</td>\n",
       "      <td>5.000500e+03</td>\n",
       "      <td>2886.895680</td>\n",
       "      <td>1.00</td>\n",
       "      <td>2500.75</td>\n",
       "      <td>5.000500e+03</td>\n",
       "      <td>7.500250e+03</td>\n",
       "      <td>10000.00</td>\n",
       "    </tr>\n",
       "    <tr>\n",
       "      <th>CustomerId</th>\n",
       "      <td>10000.0</td>\n",
       "      <td>1.569094e+07</td>\n",
       "      <td>71936.186123</td>\n",
       "      <td>15565701.00</td>\n",
       "      <td>15628528.25</td>\n",
       "      <td>1.569074e+07</td>\n",
       "      <td>1.575323e+07</td>\n",
       "      <td>15815690.00</td>\n",
       "    </tr>\n",
       "    <tr>\n",
       "      <th>CreditScore</th>\n",
       "      <td>10000.0</td>\n",
       "      <td>6.505288e+02</td>\n",
       "      <td>96.653299</td>\n",
       "      <td>350.00</td>\n",
       "      <td>584.00</td>\n",
       "      <td>6.520000e+02</td>\n",
       "      <td>7.180000e+02</td>\n",
       "      <td>850.00</td>\n",
       "    </tr>\n",
       "    <tr>\n",
       "      <th>Age</th>\n",
       "      <td>10000.0</td>\n",
       "      <td>3.892180e+01</td>\n",
       "      <td>10.487806</td>\n",
       "      <td>18.00</td>\n",
       "      <td>32.00</td>\n",
       "      <td>3.700000e+01</td>\n",
       "      <td>4.400000e+01</td>\n",
       "      <td>92.00</td>\n",
       "    </tr>\n",
       "    <tr>\n",
       "      <th>Tenure</th>\n",
       "      <td>9091.0</td>\n",
       "      <td>4.997690e+00</td>\n",
       "      <td>2.894723</td>\n",
       "      <td>0.00</td>\n",
       "      <td>2.00</td>\n",
       "      <td>5.000000e+00</td>\n",
       "      <td>7.000000e+00</td>\n",
       "      <td>10.00</td>\n",
       "    </tr>\n",
       "    <tr>\n",
       "      <th>Balance</th>\n",
       "      <td>10000.0</td>\n",
       "      <td>7.648589e+04</td>\n",
       "      <td>62397.405202</td>\n",
       "      <td>0.00</td>\n",
       "      <td>0.00</td>\n",
       "      <td>9.719854e+04</td>\n",
       "      <td>1.276442e+05</td>\n",
       "      <td>250898.09</td>\n",
       "    </tr>\n",
       "    <tr>\n",
       "      <th>NumOfProducts</th>\n",
       "      <td>10000.0</td>\n",
       "      <td>1.530200e+00</td>\n",
       "      <td>0.581654</td>\n",
       "      <td>1.00</td>\n",
       "      <td>1.00</td>\n",
       "      <td>1.000000e+00</td>\n",
       "      <td>2.000000e+00</td>\n",
       "      <td>4.00</td>\n",
       "    </tr>\n",
       "    <tr>\n",
       "      <th>HasCrCard</th>\n",
       "      <td>10000.0</td>\n",
       "      <td>7.055000e-01</td>\n",
       "      <td>0.455840</td>\n",
       "      <td>0.00</td>\n",
       "      <td>0.00</td>\n",
       "      <td>1.000000e+00</td>\n",
       "      <td>1.000000e+00</td>\n",
       "      <td>1.00</td>\n",
       "    </tr>\n",
       "    <tr>\n",
       "      <th>IsActiveMember</th>\n",
       "      <td>10000.0</td>\n",
       "      <td>5.151000e-01</td>\n",
       "      <td>0.499797</td>\n",
       "      <td>0.00</td>\n",
       "      <td>0.00</td>\n",
       "      <td>1.000000e+00</td>\n",
       "      <td>1.000000e+00</td>\n",
       "      <td>1.00</td>\n",
       "    </tr>\n",
       "    <tr>\n",
       "      <th>EstimatedSalary</th>\n",
       "      <td>10000.0</td>\n",
       "      <td>1.000902e+05</td>\n",
       "      <td>57510.492818</td>\n",
       "      <td>11.58</td>\n",
       "      <td>51002.11</td>\n",
       "      <td>1.001939e+05</td>\n",
       "      <td>1.493882e+05</td>\n",
       "      <td>199992.48</td>\n",
       "    </tr>\n",
       "    <tr>\n",
       "      <th>Exited</th>\n",
       "      <td>10000.0</td>\n",
       "      <td>2.037000e-01</td>\n",
       "      <td>0.402769</td>\n",
       "      <td>0.00</td>\n",
       "      <td>0.00</td>\n",
       "      <td>0.000000e+00</td>\n",
       "      <td>0.000000e+00</td>\n",
       "      <td>1.00</td>\n",
       "    </tr>\n",
       "  </tbody>\n",
       "</table>\n",
       "</div>"
      ],
      "text/plain": [
       "                   count          mean           std          min  \\\n",
       "RowNumber        10000.0  5.000500e+03   2886.895680         1.00   \n",
       "CustomerId       10000.0  1.569094e+07  71936.186123  15565701.00   \n",
       "CreditScore      10000.0  6.505288e+02     96.653299       350.00   \n",
       "Age              10000.0  3.892180e+01     10.487806        18.00   \n",
       "Tenure            9091.0  4.997690e+00      2.894723         0.00   \n",
       "Balance          10000.0  7.648589e+04  62397.405202         0.00   \n",
       "NumOfProducts    10000.0  1.530200e+00      0.581654         1.00   \n",
       "HasCrCard        10000.0  7.055000e-01      0.455840         0.00   \n",
       "IsActiveMember   10000.0  5.151000e-01      0.499797         0.00   \n",
       "EstimatedSalary  10000.0  1.000902e+05  57510.492818        11.58   \n",
       "Exited           10000.0  2.037000e-01      0.402769         0.00   \n",
       "\n",
       "                         25%           50%           75%          max  \n",
       "RowNumber            2500.75  5.000500e+03  7.500250e+03     10000.00  \n",
       "CustomerId       15628528.25  1.569074e+07  1.575323e+07  15815690.00  \n",
       "CreditScore           584.00  6.520000e+02  7.180000e+02       850.00  \n",
       "Age                    32.00  3.700000e+01  4.400000e+01        92.00  \n",
       "Tenure                  2.00  5.000000e+00  7.000000e+00        10.00  \n",
       "Balance                 0.00  9.719854e+04  1.276442e+05    250898.09  \n",
       "NumOfProducts           1.00  1.000000e+00  2.000000e+00         4.00  \n",
       "HasCrCard               0.00  1.000000e+00  1.000000e+00         1.00  \n",
       "IsActiveMember          0.00  1.000000e+00  1.000000e+00         1.00  \n",
       "EstimatedSalary     51002.11  1.001939e+05  1.493882e+05    199992.48  \n",
       "Exited                  0.00  0.000000e+00  0.000000e+00         1.00  "
      ]
     },
     "execution_count": 337,
     "metadata": {},
     "output_type": "execute_result"
    }
   ],
   "source": [
    "# checking the numeric values\n",
    "df.describe().T"
   ]
  },
  {
   "cell_type": "code",
   "execution_count": 338,
   "metadata": {},
   "outputs": [
    {
     "data": {
      "text/html": [
       "<div>\n",
       "<style scoped>\n",
       "    .dataframe tbody tr th:only-of-type {\n",
       "        vertical-align: middle;\n",
       "    }\n",
       "\n",
       "    .dataframe tbody tr th {\n",
       "        vertical-align: top;\n",
       "    }\n",
       "\n",
       "    .dataframe thead th {\n",
       "        text-align: right;\n",
       "    }\n",
       "</style>\n",
       "<table border=\"1\" class=\"dataframe\">\n",
       "  <thead>\n",
       "    <tr style=\"text-align: right;\">\n",
       "      <th></th>\n",
       "      <th>count</th>\n",
       "      <th>unique</th>\n",
       "      <th>top</th>\n",
       "      <th>freq</th>\n",
       "    </tr>\n",
       "  </thead>\n",
       "  <tbody>\n",
       "    <tr>\n",
       "      <th>Surname</th>\n",
       "      <td>10000</td>\n",
       "      <td>2932</td>\n",
       "      <td>Smith</td>\n",
       "      <td>32</td>\n",
       "    </tr>\n",
       "    <tr>\n",
       "      <th>Geography</th>\n",
       "      <td>10000</td>\n",
       "      <td>3</td>\n",
       "      <td>France</td>\n",
       "      <td>5014</td>\n",
       "    </tr>\n",
       "    <tr>\n",
       "      <th>Gender</th>\n",
       "      <td>10000</td>\n",
       "      <td>2</td>\n",
       "      <td>Male</td>\n",
       "      <td>5457</td>\n",
       "    </tr>\n",
       "  </tbody>\n",
       "</table>\n",
       "</div>"
      ],
      "text/plain": [
       "           count unique     top  freq\n",
       "Surname    10000   2932   Smith    32\n",
       "Geography  10000      3  France  5014\n",
       "Gender     10000      2    Male  5457"
      ]
     },
     "execution_count": 338,
     "metadata": {},
     "output_type": "execute_result"
    }
   ],
   "source": [
    "# checking the quantitative values\n",
    "df.describe(include='object').T"
   ]
  },
  {
   "cell_type": "code",
   "execution_count": 339,
   "metadata": {},
   "outputs": [
    {
     "data": {
      "text/html": [
       "<div>\n",
       "<style scoped>\n",
       "    .dataframe tbody tr th:only-of-type {\n",
       "        vertical-align: middle;\n",
       "    }\n",
       "\n",
       "    .dataframe tbody tr th {\n",
       "        vertical-align: top;\n",
       "    }\n",
       "\n",
       "    .dataframe thead th {\n",
       "        text-align: right;\n",
       "    }\n",
       "</style>\n",
       "<table border=\"1\" class=\"dataframe\">\n",
       "  <thead>\n",
       "    <tr style=\"text-align: right;\">\n",
       "      <th></th>\n",
       "      <th>count</th>\n",
       "      <th>unique</th>\n",
       "      <th>top</th>\n",
       "      <th>freq</th>\n",
       "    </tr>\n",
       "  </thead>\n",
       "  <tbody>\n",
       "    <tr>\n",
       "      <th>Surname</th>\n",
       "      <td>10000</td>\n",
       "      <td>2932</td>\n",
       "      <td>Smith</td>\n",
       "      <td>32</td>\n",
       "    </tr>\n",
       "    <tr>\n",
       "      <th>Geography</th>\n",
       "      <td>10000</td>\n",
       "      <td>3</td>\n",
       "      <td>France</td>\n",
       "      <td>5014</td>\n",
       "    </tr>\n",
       "    <tr>\n",
       "      <th>Gender</th>\n",
       "      <td>10000</td>\n",
       "      <td>2</td>\n",
       "      <td>Male</td>\n",
       "      <td>5457</td>\n",
       "    </tr>\n",
       "  </tbody>\n",
       "</table>\n",
       "</div>"
      ],
      "text/plain": [
       "           count unique     top  freq\n",
       "Surname    10000   2932   Smith    32\n",
       "Geography  10000      3  France  5014\n",
       "Gender     10000      2    Male  5457"
      ]
     },
     "execution_count": 339,
     "metadata": {},
     "output_type": "execute_result"
    }
   ],
   "source": [
    "# checking values for the columns with object data type\n",
    "df.describe(include='object').T"
   ]
  },
  {
   "cell_type": "code",
   "execution_count": 340,
   "metadata": {},
   "outputs": [
    {
     "name": "stdout",
     "output_type": "stream",
     "text": [
      "Num. duplicates: 0\n"
     ]
    }
   ],
   "source": [
    "# checking for duplicates\n",
    "print('Num. duplicates:', df.duplicated().sum())"
   ]
  },
  {
   "cell_type": "markdown",
   "metadata": {},
   "source": [
    "The target variable 'Exited' must be checked for the balance of classes. Most often the threshold for the class balance level is 25-30%. We set it as 30%, if the value found is bellow 30% - the data requires class balancing."
   ]
  },
  {
   "cell_type": "code",
   "execution_count": 341,
   "metadata": {
    "scrolled": false
   },
   "outputs": [
    {
     "name": "stdout",
     "output_type": "stream",
     "text": [
      "Classes in target variables: 0    7963\n",
      "1    2037\n",
      "Name: Exited, dtype: int64\n",
      "Class balance level: 25.58 %\n"
     ]
    }
   ],
   "source": [
    "#checking the imbalance of classes.\n",
    "print('Classes in target variables:', df['Exited'].value_counts())\n",
    "\n",
    "print('Class balance level:',round((2037/7963)*100,2),'%') "
   ]
  },
  {
   "cell_type": "markdown",
   "metadata": {},
   "source": [
    "**Summary:** Data contains 15 columns and 10000 rows. Findings and next steps:\n",
    "\n",
    "* Found 909 NaN values in 'Tenure' columns. It's only 9% from all the data. We will drop it.\n",
    "* Change float type to int in 'Tenure' column (it is supposed to be numerical).\n",
    "* We don't need 'RowNumber', 'CustomerId' and 'Surname' columns for building a prediction model. Drop them.\n",
    "* Process data in 'Geography', 'Gender' with One-Hot Encoding (OHE).\n",
    "* Data has the class imbalance in target variable. We will use either downsampling or upsanpling techniques to process it."
   ]
  },
  {
   "cell_type": "markdown",
   "metadata": {},
   "source": [
    "## Data preprocessing"
   ]
  },
  {
   "cell_type": "code",
   "execution_count": 342,
   "metadata": {},
   "outputs": [],
   "source": [
    "# dropping missing values\n",
    "df.dropna(subset=['Tenure'], inplace=True) \n",
    "df.drop(columns=['RowNumber', 'CustomerId', 'Surname'], inplace=True) # удаление ненужных столбцов"
   ]
  },
  {
   "cell_type": "code",
   "execution_count": 343,
   "metadata": {},
   "outputs": [],
   "source": [
    "# changing datatype in 'Tenure'\n",
    "df['Tenure'] = df['Tenure'].astype(int)"
   ]
  },
  {
   "cell_type": "code",
   "execution_count": 344,
   "metadata": {},
   "outputs": [],
   "source": [
    "# transforming data with OHE\n",
    "data = pd.get_dummies(df, columns=(['Geography', 'Gender']), drop_first=True)"
   ]
  },
  {
   "cell_type": "markdown",
   "metadata": {},
   "source": [
    "**Summary:** \n",
    "* dropped the unnecessary columns and missing values\n",
    "* changed data type in 'Tenure' to the appropriate data type('int')\n",
    "* transformed data in columns with categorical data with OHE"
   ]
  },
  {
   "cell_type": "markdown",
   "metadata": {},
   "source": [
    "# Feature preparation"
   ]
  },
  {
   "cell_type": "code",
   "execution_count": 345,
   "metadata": {},
   "outputs": [],
   "source": [
    "# setting features and target variables\n",
    "features = data.drop(['Exited'], axis=1)\n",
    "target = data['Exited']"
   ]
  },
  {
   "cell_type": "code",
   "execution_count": 346,
   "metadata": {},
   "outputs": [
    {
     "data": {
      "text/html": [
       "<div>\n",
       "<style scoped>\n",
       "    .dataframe tbody tr th:only-of-type {\n",
       "        vertical-align: middle;\n",
       "    }\n",
       "\n",
       "    .dataframe tbody tr th {\n",
       "        vertical-align: top;\n",
       "    }\n",
       "\n",
       "    .dataframe thead th {\n",
       "        text-align: right;\n",
       "    }\n",
       "</style>\n",
       "<table border=\"1\" class=\"dataframe\">\n",
       "  <thead>\n",
       "    <tr style=\"text-align: right;\">\n",
       "      <th></th>\n",
       "      <th>feature</th>\n",
       "      <th>VIF</th>\n",
       "    </tr>\n",
       "  </thead>\n",
       "  <tbody>\n",
       "    <tr>\n",
       "      <th>0</th>\n",
       "      <td>CreditScore</td>\n",
       "      <td>21.208943</td>\n",
       "    </tr>\n",
       "    <tr>\n",
       "      <th>1</th>\n",
       "      <td>Age</td>\n",
       "      <td>12.213651</td>\n",
       "    </tr>\n",
       "    <tr>\n",
       "      <th>2</th>\n",
       "      <td>Tenure</td>\n",
       "      <td>3.851954</td>\n",
       "    </tr>\n",
       "    <tr>\n",
       "      <th>3</th>\n",
       "      <td>Balance</td>\n",
       "      <td>3.189289</td>\n",
       "    </tr>\n",
       "    <tr>\n",
       "      <th>4</th>\n",
       "      <td>NumOfProducts</td>\n",
       "      <td>7.827226</td>\n",
       "    </tr>\n",
       "    <tr>\n",
       "      <th>5</th>\n",
       "      <td>HasCrCard</td>\n",
       "      <td>3.287674</td>\n",
       "    </tr>\n",
       "    <tr>\n",
       "      <th>6</th>\n",
       "      <td>IsActiveMember</td>\n",
       "      <td>2.078944</td>\n",
       "    </tr>\n",
       "    <tr>\n",
       "      <th>7</th>\n",
       "      <td>EstimatedSalary</td>\n",
       "      <td>3.892154</td>\n",
       "    </tr>\n",
       "    <tr>\n",
       "      <th>8</th>\n",
       "      <td>Geography_Germany</td>\n",
       "      <td>1.792308</td>\n",
       "    </tr>\n",
       "    <tr>\n",
       "      <th>9</th>\n",
       "      <td>Geography_Spain</td>\n",
       "      <td>1.484706</td>\n",
       "    </tr>\n",
       "    <tr>\n",
       "      <th>10</th>\n",
       "      <td>Gender_Male</td>\n",
       "      <td>2.174860</td>\n",
       "    </tr>\n",
       "  </tbody>\n",
       "</table>\n",
       "</div>"
      ],
      "text/plain": [
       "              feature        VIF\n",
       "0         CreditScore  21.208943\n",
       "1                 Age  12.213651\n",
       "2              Tenure   3.851954\n",
       "3             Balance   3.189289\n",
       "4       NumOfProducts   7.827226\n",
       "5           HasCrCard   3.287674\n",
       "6      IsActiveMember   2.078944\n",
       "7     EstimatedSalary   3.892154\n",
       "8   Geography_Germany   1.792308\n",
       "9     Geography_Spain   1.484706\n",
       "10        Gender_Male   2.174860"
      ]
     },
     "execution_count": 346,
     "metadata": {},
     "output_type": "execute_result"
    }
   ],
   "source": [
    "# checking for multicollinearity between the variables in 'features'\n",
    "vif_data = pd.DataFrame()\n",
    "vif_data[\"feature\"] = features.columns\n",
    "vif_data[\"VIF\"] = [variance_inflation_factor(features.values, i) for i in range(len(features.columns))]\n",
    "vif_data"
   ]
  },
  {
   "cell_type": "markdown",
   "metadata": {},
   "source": [
    "No multicollinearity found."
   ]
  },
  {
   "cell_type": "code",
   "execution_count": 347,
   "metadata": {},
   "outputs": [],
   "source": [
    "# splitting the data in train, valid, and test sets of data\n",
    "features_train, features_test, target_train, target_test = train_test_split(features, target,test_size=0.2,random_state=12345)\n",
    "features_train,features_valid, target_train, target_valid = train_test_split(features_train,target_train,test_size = 0.25,random_state=12345)"
   ]
  },
  {
   "cell_type": "code",
   "execution_count": 348,
   "metadata": {},
   "outputs": [
    {
     "name": "stdout",
     "output_type": "stream",
     "text": [
      "<class 'pandas.core.frame.DataFrame'>\n",
      "Int64Index: 5454 entries, 3706 to 208\n",
      "Data columns (total 11 columns):\n",
      " #   Column             Non-Null Count  Dtype  \n",
      "---  ------             --------------  -----  \n",
      " 0   CreditScore        5454 non-null   int64  \n",
      " 1   Age                5454 non-null   int64  \n",
      " 2   Tenure             5454 non-null   int32  \n",
      " 3   Balance            5454 non-null   float64\n",
      " 4   NumOfProducts      5454 non-null   int64  \n",
      " 5   HasCrCard          5454 non-null   int64  \n",
      " 6   IsActiveMember     5454 non-null   int64  \n",
      " 7   EstimatedSalary    5454 non-null   float64\n",
      " 8   Geography_Germany  5454 non-null   uint8  \n",
      " 9   Geography_Spain    5454 non-null   uint8  \n",
      " 10  Gender_Male        5454 non-null   uint8  \n",
      "dtypes: float64(2), int32(1), int64(5), uint8(3)\n",
      "memory usage: 378.2 KB\n"
     ]
    }
   ],
   "source": [
    "# checking\n",
    "features_train.info()"
   ]
  },
  {
   "cell_type": "markdown",
   "metadata": {},
   "source": [
    "**Summary:** \n",
    "* data was split into 3 sets: train, valid, and test. \n",
    "* data in features was additionally checked for multicollinearity (none found)"
   ]
  },
  {
   "cell_type": "markdown",
   "metadata": {},
   "source": [
    "# Balancing classes"
   ]
  },
  {
   "cell_type": "markdown",
   "metadata": {},
   "source": [
    "We will try both methods of upsampling and downsampling the classes and determine the most effective one with F1 score from logistic regression"
   ]
  },
  {
   "cell_type": "markdown",
   "metadata": {},
   "source": [
    "## Upsampling"
   ]
  },
  {
   "cell_type": "code",
   "execution_count": 349,
   "metadata": {},
   "outputs": [
    {
     "data": {
      "text/plain": [
       "4"
      ]
     },
     "execution_count": 349,
     "metadata": {},
     "output_type": "execute_result"
    }
   ],
   "source": [
    "repeat = ((target_train == 0).sum() / (target_train == 1).sum()).round().astype(int)\n",
    "repeat"
   ]
  },
  {
   "cell_type": "code",
   "execution_count": 350,
   "metadata": {},
   "outputs": [],
   "source": [
    "# writing the function for upsampling\n",
    "def upsample(features, target, repeat):\n",
    "    features_zeros = features[target == 0]\n",
    "    features_ones = features[target == 1]\n",
    "    target_zeros = target[target == 0]\n",
    "    target_ones = target[target == 1]\n",
    "\n",
    "    features_upsampled = pd.concat([features_zeros] + [features_ones] * repeat)\n",
    "    target_upsampled = pd.concat([target_zeros] + [target_ones] * repeat)\n",
    "    \n",
    "    features_upsampled, target_upsampled = shuffle(\n",
    "        features_upsampled, target_upsampled, random_state=12345)\n",
    "    \n",
    "    return features_upsampled, target_upsampled\n",
    "\n",
    "features_upsampled, target_upsampled = upsample(features_train, target_train, 4)"
   ]
  },
  {
   "cell_type": "code",
   "execution_count": 351,
   "metadata": {},
   "outputs": [
    {
     "name": "stdout",
     "output_type": "stream",
     "text": [
      "F1: 0.4493392070484581\n"
     ]
    }
   ],
   "source": [
    "#chiecking\n",
    "model = LogisticRegression(random_state=12345,solver='liblinear')\n",
    "model.fit(features_upsampled, target_upsampled)\n",
    "predicted_valid = model.predict(features_valid)\n",
    "print(\"F1:\", f1_score(target_valid, predicted_valid))"
   ]
  },
  {
   "cell_type": "markdown",
   "metadata": {},
   "source": [
    "## Downsampling"
   ]
  },
  {
   "cell_type": "code",
   "execution_count": 352,
   "metadata": {},
   "outputs": [],
   "source": [
    "# writing the function for downsampling\n",
    "def downsample(features, target, fraction):\n",
    "    features_zeros = features[target == 0]\n",
    "    features_ones = features[target == 1]\n",
    "    target_zeros = target[target == 0]\n",
    "    target_ones = target[target == 1]\n",
    "\n",
    "    features_downsampled = pd.concat(\n",
    "        [features_zeros.sample(frac=fraction, random_state=12345)] + [features_ones])\n",
    "    target_downsampled = pd.concat(\n",
    "        [target_zeros.sample(frac=fraction, random_state=12345)] + [target_ones])\n",
    "    \n",
    "    features_downsampled, target_downsampled = shuffle(\n",
    "        features_downsampled, target_downsampled, random_state=12345)\n",
    "    \n",
    "    return features_downsampled, target_downsampled\n",
    "\n",
    "\n",
    "features_downsampled, target_downsampled = downsample(features_train, target_train, 0.1)"
   ]
  },
  {
   "cell_type": "code",
   "execution_count": 353,
   "metadata": {},
   "outputs": [
    {
     "name": "stdout",
     "output_type": "stream",
     "text": [
      "F1: 0.3584710743801653\n",
      "<class 'pandas.core.frame.DataFrame'>\n",
      "Int64Index: 1553 entries, 5658 to 1410\n",
      "Data columns (total 11 columns):\n",
      " #   Column             Non-Null Count  Dtype  \n",
      "---  ------             --------------  -----  \n",
      " 0   CreditScore        1553 non-null   int64  \n",
      " 1   Age                1553 non-null   int64  \n",
      " 2   Tenure             1553 non-null   int32  \n",
      " 3   Balance            1553 non-null   float64\n",
      " 4   NumOfProducts      1553 non-null   int64  \n",
      " 5   HasCrCard          1553 non-null   int64  \n",
      " 6   IsActiveMember     1553 non-null   int64  \n",
      " 7   EstimatedSalary    1553 non-null   float64\n",
      " 8   Geography_Germany  1553 non-null   uint8  \n",
      " 9   Geography_Spain    1553 non-null   uint8  \n",
      " 10  Gender_Male        1553 non-null   uint8  \n",
      "dtypes: float64(2), int32(1), int64(5), uint8(3)\n",
      "memory usage: 107.7 KB\n",
      "None\n"
     ]
    }
   ],
   "source": [
    "model = LogisticRegression(random_state=12345,solver='liblinear')\n",
    "model.fit(features_downsampled, target_downsampled)\n",
    "predicted_valid = model.predict(features_valid)\n",
    "\n",
    "\n",
    "print(\"F1:\", f1_score(target_valid, predicted_valid))\n",
    "print(features_downsampled.info())"
   ]
  },
  {
   "cell_type": "markdown",
   "metadata": {},
   "source": [
    "**Summary** Logistic regression for upsampling showed the result of F1_score equalling to 0.44, while Downsampling showed only 0.35. We will use upsampling in the building of models later."
   ]
  },
  {
   "cell_type": "markdown",
   "metadata": {},
   "source": [
    "# Сhoosing the best model"
   ]
  },
  {
   "cell_type": "markdown",
   "metadata": {},
   "source": [
    "We will build and compare the four following models:\n",
    "* Decision Tree Classifier\n",
    "* Random Forest Classifier\n",
    "* Logistic Regression Classifier\n",
    "* Gradient Boosting Classifier"
   ]
  },
  {
   "cell_type": "markdown",
   "metadata": {},
   "source": [
    "## Decision Tree Classifier"
   ]
  },
  {
   "cell_type": "code",
   "execution_count": 354,
   "metadata": {},
   "outputs": [
    {
     "data": {
      "text/html": [
       "<div>\n",
       "<style scoped>\n",
       "    .dataframe tbody tr th:only-of-type {\n",
       "        vertical-align: middle;\n",
       "    }\n",
       "\n",
       "    .dataframe tbody tr th {\n",
       "        vertical-align: top;\n",
       "    }\n",
       "\n",
       "    .dataframe thead th {\n",
       "        text-align: right;\n",
       "    }\n",
       "</style>\n",
       "<table border=\"1\" class=\"dataframe\">\n",
       "  <thead>\n",
       "    <tr style=\"text-align: right;\">\n",
       "      <th></th>\n",
       "      <th>max_depth</th>\n",
       "      <th>f1_train</th>\n",
       "      <th>f1_valid</th>\n",
       "      <th>AUC_ROC</th>\n",
       "    </tr>\n",
       "  </thead>\n",
       "  <tbody>\n",
       "    <tr>\n",
       "      <th>6</th>\n",
       "      <td>7</td>\n",
       "      <td>0.82</td>\n",
       "      <td>0.56</td>\n",
       "      <td>0.82</td>\n",
       "    </tr>\n",
       "    <tr>\n",
       "      <th>5</th>\n",
       "      <td>6</td>\n",
       "      <td>0.79</td>\n",
       "      <td>0.55</td>\n",
       "      <td>0.81</td>\n",
       "    </tr>\n",
       "    <tr>\n",
       "      <th>8</th>\n",
       "      <td>9</td>\n",
       "      <td>0.86</td>\n",
       "      <td>0.54</td>\n",
       "      <td>0.78</td>\n",
       "    </tr>\n",
       "    <tr>\n",
       "      <th>7</th>\n",
       "      <td>8</td>\n",
       "      <td>0.84</td>\n",
       "      <td>0.54</td>\n",
       "      <td>0.80</td>\n",
       "    </tr>\n",
       "    <tr>\n",
       "      <th>4</th>\n",
       "      <td>5</td>\n",
       "      <td>0.75</td>\n",
       "      <td>0.54</td>\n",
       "      <td>0.81</td>\n",
       "    </tr>\n",
       "  </tbody>\n",
       "</table>\n",
       "</div>"
      ],
      "text/plain": [
       "   max_depth  f1_train  f1_valid  AUC_ROC\n",
       "6          7      0.82      0.56     0.82\n",
       "5          6      0.79      0.55     0.81\n",
       "8          9      0.86      0.54     0.78\n",
       "7          8      0.84      0.54     0.80\n",
       "4          5      0.75      0.54     0.81"
      ]
     },
     "execution_count": 354,
     "metadata": {},
     "output_type": "execute_result"
    }
   ],
   "source": [
    "df_dtc = pd.DataFrame() # create dataframe \n",
    "for depth in range(1, 10):\n",
    "    # defining the model\n",
    "    model = DecisionTreeClassifier(max_depth=depth, random_state=12345)\n",
    "\n",
    "    # fitting the model\n",
    "    model.fit(features_upsampled, target_upsampled)\n",
    "\n",
    "    # predicting values\n",
    "    predicted_train = model.predict(features_upsampled)\n",
    "    predicted_valid = model.predict(features_valid)\n",
    "\n",
    "    # calculating f1_score\n",
    "    f1_train = f1_score(target_upsampled, predicted_train)\n",
    "    f1_valid = f1_score(target_valid, predicted_valid)\n",
    "\n",
    "    # predicting probabilities\n",
    "    probabilities_valid = model.predict_proba(features_valid)\n",
    "    probabilities_one_valid = probabilities_valid[:, 1]\n",
    "\n",
    "    # calculating auc_roc score\n",
    "    auc_roc = roc_auc_score(target_valid, probabilities_one_valid) \n",
    "\n",
    "    # creating the temporary dataframe with metrics\n",
    "    df_decissiontree_temp = pd.DataFrame({'max_depth': [depth],'f1_train': [f1_train],'f1_valid': [f1_valid],'AUC_ROC': [auc_roc]})\n",
    "\n",
    "    # appending the new values to df_dtc  \n",
    "    df_dtc = df_dtc.append(df_decissiontree_temp)\n",
    "\n",
    "\n",
    "dtc = df_dtc.reset_index(drop=True)\n",
    "round(dtc.sort_values(by='f1_valid', ascending=False).head(),2)"
   ]
  },
  {
   "cell_type": "markdown",
   "metadata": {},
   "source": [
    "**Summary:** The best result with max_depth=7, f1_valid_up=0.56, and AUC ROC = 0.82, which is a good result"
   ]
  },
  {
   "cell_type": "markdown",
   "metadata": {},
   "source": [
    "## Random Forest Classifier"
   ]
  },
  {
   "cell_type": "code",
   "execution_count": 355,
   "metadata": {},
   "outputs": [
    {
     "data": {
      "text/html": [
       "<div>\n",
       "<style scoped>\n",
       "    .dataframe tbody tr th:only-of-type {\n",
       "        vertical-align: middle;\n",
       "    }\n",
       "\n",
       "    .dataframe tbody tr th {\n",
       "        vertical-align: top;\n",
       "    }\n",
       "\n",
       "    .dataframe thead th {\n",
       "        text-align: right;\n",
       "    }\n",
       "</style>\n",
       "<table border=\"1\" class=\"dataframe\">\n",
       "  <thead>\n",
       "    <tr style=\"text-align: right;\">\n",
       "      <th></th>\n",
       "      <th>est</th>\n",
       "      <th>f1_train</th>\n",
       "      <th>f1_valid</th>\n",
       "      <th>AUC_ROC</th>\n",
       "    </tr>\n",
       "  </thead>\n",
       "  <tbody>\n",
       "    <tr>\n",
       "      <th>9</th>\n",
       "      <td>10</td>\n",
       "      <td>0.78</td>\n",
       "      <td>0.60</td>\n",
       "      <td>0.85</td>\n",
       "    </tr>\n",
       "    <tr>\n",
       "      <th>7</th>\n",
       "      <td>8</td>\n",
       "      <td>0.76</td>\n",
       "      <td>0.59</td>\n",
       "      <td>0.84</td>\n",
       "    </tr>\n",
       "    <tr>\n",
       "      <th>13</th>\n",
       "      <td>14</td>\n",
       "      <td>0.77</td>\n",
       "      <td>0.59</td>\n",
       "      <td>0.85</td>\n",
       "    </tr>\n",
       "    <tr>\n",
       "      <th>28</th>\n",
       "      <td>29</td>\n",
       "      <td>0.78</td>\n",
       "      <td>0.59</td>\n",
       "      <td>0.85</td>\n",
       "    </tr>\n",
       "    <tr>\n",
       "      <th>11</th>\n",
       "      <td>12</td>\n",
       "      <td>0.78</td>\n",
       "      <td>0.59</td>\n",
       "      <td>0.85</td>\n",
       "    </tr>\n",
       "  </tbody>\n",
       "</table>\n",
       "</div>"
      ],
      "text/plain": [
       "    est  f1_train  f1_valid  AUC_ROC\n",
       "9    10      0.78      0.60     0.85\n",
       "7     8      0.76      0.59     0.84\n",
       "13   14      0.77      0.59     0.85\n",
       "28   29      0.78      0.59     0.85\n",
       "11   12      0.78      0.59     0.85"
      ]
     },
     "execution_count": 355,
     "metadata": {},
     "output_type": "execute_result"
    }
   ],
   "source": [
    "df_rfc = pd.DataFrame() # create dataframe \n",
    "for est in range(1, 50):\n",
    "    # defining the model\n",
    "    model = RandomForestClassifier(max_depth=5, n_estimators=est, random_state=12345)\n",
    "\n",
    "    # fitting the model\n",
    "    model.fit(features_upsampled, target_upsampled)\n",
    "\n",
    "    # predicting values\n",
    "    predicted_train = model.predict(features_upsampled)\n",
    "    predicted_valid = model.predict(features_valid)\n",
    "\n",
    "    # calculating f1_score\n",
    "    f1_train = f1_score(target_upsampled, predicted_train)\n",
    "    f1_valid = f1_score(target_valid, predicted_valid)\n",
    "\n",
    "    # predicting probabilities\n",
    "    probabilities_valid = model.predict_proba(features_valid)\n",
    "    probabilities_one_valid = probabilities_valid[:, 1]\n",
    "\n",
    "    # calculating auc_roc score\n",
    "    auc_roc = roc_auc_score(target_valid, probabilities_one_valid) \n",
    "\n",
    "    # creating the temporary dataframe with metrics\n",
    "    df_rf_temp = pd.DataFrame({'est': [est],'f1_train': [f1_train],'f1_valid': [f1_valid],'AUC_ROC': [auc_roc]})\n",
    "\n",
    "    # appending the new values to df_dtc  \n",
    "    df_rfc = df_rfc.append(df_rf_temp)\n",
    "\n",
    "\n",
    "rfc = df_rfc.reset_index(drop=True)\n",
    "round(rfc.sort_values(by='f1_valid', ascending=False).head(),2)"
   ]
  },
  {
   "cell_type": "markdown",
   "metadata": {},
   "source": [
    "**Summary:** The best result with n_estimators=10. We have f1_valid_up=0.60, and AUC ROC = 0.85. It's higher than for DecisionTreeClassifier."
   ]
  },
  {
   "cell_type": "markdown",
   "metadata": {},
   "source": [
    "## Logistic Regression"
   ]
  },
  {
   "cell_type": "code",
   "execution_count": 356,
   "metadata": {},
   "outputs": [
    {
     "data": {
      "text/html": [
       "<div>\n",
       "<style scoped>\n",
       "    .dataframe tbody tr th:only-of-type {\n",
       "        vertical-align: middle;\n",
       "    }\n",
       "\n",
       "    .dataframe tbody tr th {\n",
       "        vertical-align: top;\n",
       "    }\n",
       "\n",
       "    .dataframe thead th {\n",
       "        text-align: right;\n",
       "    }\n",
       "</style>\n",
       "<table border=\"1\" class=\"dataframe\">\n",
       "  <thead>\n",
       "    <tr style=\"text-align: right;\">\n",
       "      <th></th>\n",
       "      <th>f1_train</th>\n",
       "      <th>f1_valid</th>\n",
       "      <th>AUC_ROC</th>\n",
       "    </tr>\n",
       "  </thead>\n",
       "  <tbody>\n",
       "    <tr>\n",
       "      <th>0</th>\n",
       "      <td>0.67</td>\n",
       "      <td>0.45</td>\n",
       "      <td>0.71</td>\n",
       "    </tr>\n",
       "  </tbody>\n",
       "</table>\n",
       "</div>"
      ],
      "text/plain": [
       "   f1_train  f1_valid  AUC_ROC\n",
       "0      0.67      0.45     0.71"
      ]
     },
     "execution_count": 356,
     "metadata": {},
     "output_type": "execute_result"
    }
   ],
   "source": [
    "log_reg = pd.DataFrame() # create dataframe \n",
    "\n",
    "model = LogisticRegression(solver='liblinear', class_weight='balanced', random_state=12345)\n",
    "\n",
    "# fitting the model\n",
    "model.fit(features_upsampled, target_upsampled)\n",
    "\n",
    "# predicting values\n",
    "predicted_train = model.predict(features_upsampled)\n",
    "predicted_valid = model.predict(features_valid)\n",
    "\n",
    "# calculating f1_score\n",
    "f1_train = f1_score(target_upsampled, predicted_train)\n",
    "f1_valid = f1_score(target_valid, predicted_valid)\n",
    "\n",
    "# predicting probabilities\n",
    "probabilities_valid = model.predict_proba(features_valid)\n",
    "probabilities_one_valid = probabilities_valid[:, 1]\n",
    "\n",
    "# calculating auc_roc score\n",
    "auc_roc = roc_auc_score(target_valid, probabilities_one_valid) \n",
    "\n",
    "# creating the temporary dataframe with metrics\n",
    "df_lr_temp = pd.DataFrame({'f1_train': [f1_train],'f1_valid': [f1_valid],'AUC_ROC': [auc_roc]})\n",
    "\n",
    "# appending the new values to df_dtc  \n",
    "log_reg = log_reg.append(df_lr_temp)\n",
    "\n",
    "\n",
    "lr_reg = log_reg.reset_index(drop=True)\n",
    "round(lr_reg.sort_values(by='f1_valid', ascending=False).head(),2)"
   ]
  },
  {
   "cell_type": "markdown",
   "metadata": {},
   "source": [
    "**Summary** Logistic regression showed the worst result with f1 score = 0.45 on valid set, and AUC ROC = 0.71"
   ]
  },
  {
   "cell_type": "markdown",
   "metadata": {},
   "source": [
    "## Gradient Boosting Classifier"
   ]
  },
  {
   "cell_type": "code",
   "execution_count": 358,
   "metadata": {},
   "outputs": [
    {
     "data": {
      "text/html": [
       "<div>\n",
       "<style scoped>\n",
       "    .dataframe tbody tr th:only-of-type {\n",
       "        vertical-align: middle;\n",
       "    }\n",
       "\n",
       "    .dataframe tbody tr th {\n",
       "        vertical-align: top;\n",
       "    }\n",
       "\n",
       "    .dataframe thead th {\n",
       "        text-align: right;\n",
       "    }\n",
       "</style>\n",
       "<table border=\"1\" class=\"dataframe\">\n",
       "  <thead>\n",
       "    <tr style=\"text-align: right;\">\n",
       "      <th></th>\n",
       "      <th>est</th>\n",
       "      <th>f1_train</th>\n",
       "      <th>f1_valid</th>\n",
       "      <th>AUC_ROC</th>\n",
       "    </tr>\n",
       "  </thead>\n",
       "  <tbody>\n",
       "    <tr>\n",
       "      <th>35</th>\n",
       "      <td>36</td>\n",
       "      <td>0.98</td>\n",
       "      <td>0.6</td>\n",
       "      <td>0.83</td>\n",
       "    </tr>\n",
       "    <tr>\n",
       "      <th>38</th>\n",
       "      <td>39</td>\n",
       "      <td>0.99</td>\n",
       "      <td>0.6</td>\n",
       "      <td>0.83</td>\n",
       "    </tr>\n",
       "    <tr>\n",
       "      <th>40</th>\n",
       "      <td>41</td>\n",
       "      <td>0.99</td>\n",
       "      <td>0.6</td>\n",
       "      <td>0.83</td>\n",
       "    </tr>\n",
       "    <tr>\n",
       "      <th>39</th>\n",
       "      <td>40</td>\n",
       "      <td>0.99</td>\n",
       "      <td>0.6</td>\n",
       "      <td>0.83</td>\n",
       "    </tr>\n",
       "    <tr>\n",
       "      <th>41</th>\n",
       "      <td>42</td>\n",
       "      <td>0.99</td>\n",
       "      <td>0.6</td>\n",
       "      <td>0.83</td>\n",
       "    </tr>\n",
       "  </tbody>\n",
       "</table>\n",
       "</div>"
      ],
      "text/plain": [
       "    est  f1_train  f1_valid  AUC_ROC\n",
       "35   36      0.98       0.6     0.83\n",
       "38   39      0.99       0.6     0.83\n",
       "40   41      0.99       0.6     0.83\n",
       "39   40      0.99       0.6     0.83\n",
       "41   42      0.99       0.6     0.83"
      ]
     },
     "execution_count": 358,
     "metadata": {},
     "output_type": "execute_result"
    }
   ],
   "source": [
    "df_gb = pd.DataFrame() # create dataframe \n",
    "for est in range(1, 50):\n",
    "    # defining the model\n",
    "    model = GradientBoostingClassifier(max_depth=9, n_estimators=est, random_state=12345)\n",
    "\n",
    "    # fitting the model\n",
    "    model.fit(features_upsampled, target_upsampled)\n",
    "\n",
    "    # predicting values\n",
    "    predicted_train = model.predict(features_upsampled)\n",
    "    predicted_valid = model.predict(features_valid)\n",
    "\n",
    "    # calculating f1_score\n",
    "    f1_train = f1_score(target_upsampled, predicted_train)\n",
    "    f1_valid = f1_score(target_valid, predicted_valid)\n",
    "\n",
    "    # predicting probabilities\n",
    "    probabilities_valid = model.predict_proba(features_valid)\n",
    "    probabilities_one_valid = probabilities_valid[:, 1]\n",
    "\n",
    "    # calculating auc_roc score\n",
    "    auc_roc = roc_auc_score(target_valid, probabilities_one_valid) \n",
    "\n",
    "    # creating the temporary dataframe with metrics\n",
    "    df_gb_temp = pd.DataFrame({'est': [est],'f1_train': [f1_train],'f1_valid': [f1_valid],'AUC_ROC': [auc_roc]})\n",
    "\n",
    "    # appending the new values to df_dtc  \n",
    "    df_gb = df_gb.append(df_gb_temp)\n",
    "\n",
    "\n",
    "gb = df_gb.reset_index(drop=True)\n",
    "round(gb.sort_values(by='f1_valid', ascending=False).head(),2)"
   ]
  },
  {
   "cell_type": "markdown",
   "metadata": {},
   "source": [
    "**Summary** Gradient boosting has result with f1 = 0.60 and auc roc 0.85"
   ]
  },
  {
   "cell_type": "markdown",
   "metadata": {},
   "source": [
    "We analyzed the 4 models and compared their f1 score and AUC ROC score on the valid sets\n",
    "\n",
    "|model|f1_valid|AUC ROC|\n",
    "|---|---|---|\n",
    "|DecisionTree|0.56|0.82|\n",
    "|RandomForest|0.60|0.86|\n",
    "|LogisticRegression|0.45|0.71|\n",
    "|GradientBoosting|0.60|0.83|\n",
    "\n",
    "Thus 'Random Forest Classifier' with max_depth=5 and n_estimators=10 is the best model."
   ]
  },
  {
   "cell_type": "markdown",
   "metadata": {},
   "source": [
    "# Model testing"
   ]
  },
  {
   "cell_type": "code",
   "execution_count": 360,
   "metadata": {
    "scrolled": true
   },
   "outputs": [
    {
     "name": "stdout",
     "output_type": "stream",
     "text": [
      "f1_score: 0.6078212290502794\n",
      "auc_roc: 0.8510784038874871\n"
     ]
    }
   ],
   "source": [
    "model = RandomForestClassifier(random_state=12345, max_depth=5, n_estimators=10)\n",
    "model.fit(features_upsampled, target_upsampled) # fit the model\n",
    "predicted_test = model.predict(features_test)\n",
    "\n",
    "# predict probabilities\n",
    "probabilities_test = model.predict_proba(features_test)\n",
    "probabilities_one_test = probabilities_test[:, 1]\n",
    "\n",
    "# calculate auc_roc\n",
    "auc_roc = roc_auc_score(target_test, probabilities_one_test) \n",
    "\n",
    "f1_test = f1_score(target_test, predicted_test) # count the test score\n",
    "print('f1_score:', f1_test)\n",
    "print('auc_roc:', auc_roc)"
   ]
  },
  {
   "cell_type": "markdown",
   "metadata": {},
   "source": [
    "**Summary:** These are good f1  and auc_roc score. The model is not overfitting.\n"
   ]
  },
  {
   "cell_type": "markdown",
   "metadata": {},
   "source": [
    "# Overall conclusion"
   ]
  },
  {
   "cell_type": "markdown",
   "metadata": {},
   "source": [
    "1. Opened and analyzed the data; checked for duplicates and imbalance of classes in the target var.\n",
    "2. Balanced out the classes in the target var, deleted the unnecessary columns and missing values\n",
    "3. Analyzed a total of 4 models \"Decision Tree\", \"Random Forest\", \"Gradient Boosting\", and \"Logistic Regression\". The best result of the f1 score (0.60), AUC-ROC (0.85) was shown by the Random Forest model.\n",
    "5. The f1 score of the measure is significantly lower than the auc_roc value.\n",
    "\n",
    "According to the task, it was necessary to build a classification model with an the best possible value of the F1-score, with the threshold being equal to 0.59.\n",
    "'Random Forest Classifier' with max_depth=5 and n_estimators=10 is the best model, with f1 score equal to 0.50, and AUC ROC equal to 0.85."
   ]
  }
 ],
 "metadata": {
  "ExecuteTimeLog": [
   {
    "duration": 1986,
    "start_time": "2021-12-12T04:43:16.494Z"
   },
   {
    "duration": 17226,
    "start_time": "2021-12-12T04:45:11.286Z"
   },
   {
    "duration": 48,
    "start_time": "2021-12-12T04:45:46.174Z"
   },
   {
    "duration": 4,
    "start_time": "2021-12-12T04:53:48.071Z"
   },
   {
    "duration": 4,
    "start_time": "2021-12-12T04:53:53.888Z"
   },
   {
    "duration": 252,
    "start_time": "2021-12-12T04:54:00.030Z"
   },
   {
    "duration": 4,
    "start_time": "2021-12-12T04:54:07.400Z"
   },
   {
    "duration": 49,
    "start_time": "2021-12-12T04:55:15.251Z"
   },
   {
    "duration": 116,
    "start_time": "2021-12-12T04:55:15.301Z"
   },
   {
    "duration": 50,
    "start_time": "2021-12-12T04:55:53.030Z"
   },
   {
    "duration": 1063,
    "start_time": "2021-12-12T04:55:53.081Z"
   },
   {
    "duration": 1076,
    "start_time": "2021-12-12T04:56:41.991Z"
   },
   {
    "duration": 1915,
    "start_time": "2021-12-12T20:32:17.298Z"
   },
   {
    "duration": 127,
    "start_time": "2021-12-12T20:32:19.216Z"
   },
   {
    "duration": 75,
    "start_time": "2021-12-12T20:32:26.579Z"
   },
   {
    "duration": 14,
    "start_time": "2021-12-12T20:32:26.657Z"
   },
   {
    "duration": 80,
    "start_time": "2021-12-12T20:41:21.390Z"
   },
   {
    "duration": 24,
    "start_time": "2021-12-12T20:41:21.472Z"
   },
   {
    "duration": 519,
    "start_time": "2021-12-12T20:41:21.499Z"
   },
   {
    "duration": 932,
    "start_time": "2021-12-12T20:42:29.621Z"
   },
   {
    "duration": 23,
    "start_time": "2021-12-12T20:42:30.556Z"
   },
   {
    "duration": 662,
    "start_time": "2021-12-12T20:42:30.582Z"
   },
   {
    "duration": 80,
    "start_time": "2021-12-12T20:44:43.311Z"
   },
   {
    "duration": 24,
    "start_time": "2021-12-12T20:44:43.393Z"
   },
   {
    "duration": 393,
    "start_time": "2021-12-12T20:44:43.420Z"
   },
   {
    "duration": 79,
    "start_time": "2021-12-12T20:49:04.531Z"
   },
   {
    "duration": 449,
    "start_time": "2021-12-12T20:49:04.612Z"
   },
   {
    "duration": -582,
    "start_time": "2021-12-12T20:49:05.646Z"
   },
   {
    "duration": 77,
    "start_time": "2021-12-12T20:49:14.299Z"
   },
   {
    "duration": 83,
    "start_time": "2021-12-12T20:49:14.379Z"
   },
   {
    "duration": 402,
    "start_time": "2021-12-12T20:49:14.465Z"
   },
   {
    "duration": 79,
    "start_time": "2021-12-12T20:51:01.679Z"
   },
   {
    "duration": 65,
    "start_time": "2021-12-12T20:51:01.761Z"
   },
   {
    "duration": 397,
    "start_time": "2021-12-12T20:51:01.829Z"
   },
   {
    "duration": 104,
    "start_time": "2021-12-12T20:55:09.257Z"
   },
   {
    "duration": 45,
    "start_time": "2021-12-12T20:55:09.364Z"
   },
   {
    "duration": 403,
    "start_time": "2021-12-12T20:55:09.412Z"
   },
   {
    "duration": 83,
    "start_time": "2021-12-12T20:55:59.083Z"
   },
   {
    "duration": 821,
    "start_time": "2021-12-12T20:55:59.169Z"
   },
   {
    "duration": -769,
    "start_time": "2021-12-12T20:56:00.762Z"
   },
   {
    "duration": 76,
    "start_time": "2021-12-12T20:56:40.499Z"
   },
   {
    "duration": 845,
    "start_time": "2021-12-12T20:56:40.577Z"
   },
   {
    "duration": -1294,
    "start_time": "2021-12-12T20:56:42.719Z"
   },
   {
    "duration": 88,
    "start_time": "2021-12-12T20:58:27.262Z"
   },
   {
    "duration": 877,
    "start_time": "2021-12-12T20:58:27.360Z"
   },
   {
    "duration": -609,
    "start_time": "2021-12-12T20:58:28.848Z"
   },
   {
    "duration": 79,
    "start_time": "2021-12-12T20:59:04.469Z"
   },
   {
    "duration": 783,
    "start_time": "2021-12-12T20:59:04.550Z"
   },
   {
    "duration": -613,
    "start_time": "2021-12-12T20:59:05.948Z"
   },
   {
    "duration": 82,
    "start_time": "2021-12-12T20:59:22.915Z"
   },
   {
    "duration": 591,
    "start_time": "2021-12-12T20:59:23.000Z"
   },
   {
    "duration": 529,
    "start_time": "2021-12-12T20:59:23.594Z"
   },
   {
    "duration": 77,
    "start_time": "2021-12-12T21:00:31.917Z"
   },
   {
    "duration": 4533,
    "start_time": "2021-12-12T21:00:31.997Z"
   },
   {
    "duration": 1765,
    "start_time": "2021-12-12T21:00:36.534Z"
   },
   {
    "duration": 81,
    "start_time": "2021-12-12T21:00:53.194Z"
   },
   {
    "duration": 8096,
    "start_time": "2021-12-12T21:00:53.278Z"
   },
   {
    "duration": 417,
    "start_time": "2021-12-12T21:01:01.377Z"
   },
   {
    "duration": 77,
    "start_time": "2021-12-12T21:01:55.505Z"
   },
   {
    "duration": 4330,
    "start_time": "2021-12-12T21:01:55.585Z"
   },
   {
    "duration": 416,
    "start_time": "2021-12-12T21:01:59.917Z"
   },
   {
    "duration": 77,
    "start_time": "2021-12-12T21:02:50.577Z"
   },
   {
    "duration": 4510,
    "start_time": "2021-12-12T21:02:50.656Z"
   },
   {
    "duration": 129,
    "start_time": "2021-12-12T21:02:55.169Z"
   },
   {
    "duration": 75,
    "start_time": "2021-12-12T21:03:01.881Z"
   },
   {
    "duration": 4643,
    "start_time": "2021-12-12T21:03:01.959Z"
   },
   {
    "duration": 389,
    "start_time": "2021-12-12T21:03:06.605Z"
   },
   {
    "duration": 75,
    "start_time": "2021-12-12T21:03:41.303Z"
   },
   {
    "duration": 25,
    "start_time": "2021-12-12T21:03:41.381Z"
   },
   {
    "duration": 378,
    "start_time": "2021-12-12T21:03:41.409Z"
   },
   {
    "duration": 620,
    "start_time": "2021-12-12T21:05:04.312Z"
   },
   {
    "duration": -628,
    "start_time": "2021-12-12T21:05:05.563Z"
   },
   {
    "duration": -628,
    "start_time": "2021-12-12T21:05:05.565Z"
   },
   {
    "duration": 77,
    "start_time": "2021-12-12T21:05:39.444Z"
   },
   {
    "duration": 84,
    "start_time": "2021-12-12T21:05:39.524Z"
   },
   {
    "duration": 415,
    "start_time": "2021-12-12T21:05:39.610Z"
   },
   {
    "duration": 74,
    "start_time": "2021-12-12T21:06:56.295Z"
   },
   {
    "duration": 489,
    "start_time": "2021-12-12T21:06:56.372Z"
   },
   {
    "duration": -605,
    "start_time": "2021-12-12T21:06:57.468Z"
   },
   {
    "duration": 77,
    "start_time": "2021-12-12T21:07:34.444Z"
   },
   {
    "duration": 11367,
    "start_time": "2021-12-12T21:07:34.523Z"
   },
   {
    "duration": -626,
    "start_time": "2021-12-12T21:07:46.519Z"
   },
   {
    "duration": 80,
    "start_time": "2021-12-12T21:07:59.960Z"
   },
   {
    "duration": 479,
    "start_time": "2021-12-12T21:08:00.043Z"
   },
   {
    "duration": -602,
    "start_time": "2021-12-12T21:08:01.126Z"
   },
   {
    "duration": 75,
    "start_time": "2021-12-12T21:08:29.740Z"
   },
   {
    "duration": 89,
    "start_time": "2021-12-12T21:08:29.818Z"
   },
   {
    "duration": 448,
    "start_time": "2021-12-12T21:08:29.910Z"
   },
   {
    "duration": 74,
    "start_time": "2021-12-12T21:11:10.433Z"
   },
   {
    "duration": 389,
    "start_time": "2021-12-12T21:11:10.510Z"
   },
   {
    "duration": -667,
    "start_time": "2021-12-12T21:11:11.569Z"
   },
   {
    "duration": 77,
    "start_time": "2021-12-12T21:11:29.231Z"
   },
   {
    "duration": 57,
    "start_time": "2021-12-12T21:11:29.310Z"
   },
   {
    "duration": 422,
    "start_time": "2021-12-12T21:11:29.370Z"
   },
   {
    "duration": 79,
    "start_time": "2021-12-12T21:13:55.338Z"
   },
   {
    "duration": 76,
    "start_time": "2021-12-12T21:13:55.419Z"
   },
   {
    "duration": 399,
    "start_time": "2021-12-12T21:13:55.498Z"
   },
   {
    "duration": 76,
    "start_time": "2021-12-12T21:14:20.887Z"
   },
   {
    "duration": 73,
    "start_time": "2021-12-12T21:14:20.966Z"
   },
   {
    "duration": 420,
    "start_time": "2021-12-12T21:14:21.042Z"
   },
   {
    "duration": 78,
    "start_time": "2021-12-12T21:16:17.612Z"
   },
   {
    "duration": 3127,
    "start_time": "2021-12-12T21:16:17.693Z"
   },
   {
    "duration": -594,
    "start_time": "2021-12-12T21:16:21.417Z"
   },
   {
    "duration": 78,
    "start_time": "2021-12-12T21:16:40.028Z"
   },
   {
    "duration": 157,
    "start_time": "2021-12-12T21:16:40.109Z"
   },
   {
    "duration": 552,
    "start_time": "2021-12-12T21:16:40.610Z"
   },
   {
    "duration": 75,
    "start_time": "2021-12-12T21:17:04.138Z"
   },
   {
    "duration": 2775,
    "start_time": "2021-12-12T21:17:04.216Z"
   },
   {
    "duration": -655,
    "start_time": "2021-12-12T21:17:07.649Z"
   },
   {
    "duration": 82,
    "start_time": "2021-12-12T21:18:14.207Z"
   },
   {
    "duration": 85,
    "start_time": "2021-12-12T21:18:14.292Z"
   },
   {
    "duration": 380,
    "start_time": "2021-12-12T21:18:14.380Z"
   },
   {
    "duration": 75,
    "start_time": "2021-12-12T21:19:15.544Z"
   },
   {
    "duration": 87,
    "start_time": "2021-12-12T21:19:15.621Z"
   },
   {
    "duration": 801,
    "start_time": "2021-12-12T21:19:15.711Z"
   },
   {
    "duration": 77,
    "start_time": "2021-12-12T21:19:39.065Z"
   },
   {
    "duration": 66,
    "start_time": "2021-12-12T21:19:39.144Z"
   },
   {
    "duration": 74,
    "start_time": "2021-12-12T21:20:04.185Z"
   },
   {
    "duration": 59,
    "start_time": "2021-12-12T21:20:04.262Z"
   },
   {
    "duration": 144,
    "start_time": "2021-12-12T21:20:47.763Z"
   },
   {
    "duration": 123,
    "start_time": "2021-12-12T21:20:47.911Z"
   },
   {
    "duration": 78,
    "start_time": "2021-12-12T21:21:03.252Z"
   },
   {
    "duration": 75,
    "start_time": "2021-12-12T21:21:03.332Z"
   },
   {
    "duration": 76,
    "start_time": "2021-12-12T21:21:34.237Z"
   },
   {
    "duration": 72,
    "start_time": "2021-12-12T21:21:34.316Z"
   },
   {
    "duration": 405,
    "start_time": "2021-12-12T21:21:34.390Z"
   },
   {
    "duration": 78,
    "start_time": "2021-12-12T21:22:07.114Z"
   },
   {
    "duration": 75,
    "start_time": "2021-12-12T21:22:07.195Z"
   },
   {
    "duration": 78,
    "start_time": "2021-12-12T21:25:18.767Z"
   },
   {
    "duration": 65,
    "start_time": "2021-12-12T21:25:18.848Z"
   },
   {
    "duration": 580,
    "start_time": "2021-12-12T21:25:18.915Z"
   },
   {
    "duration": 77,
    "start_time": "2021-12-12T21:26:00.316Z"
   },
   {
    "duration": 76,
    "start_time": "2021-12-12T21:26:00.396Z"
   },
   {
    "duration": 415,
    "start_time": "2021-12-12T21:26:00.475Z"
   },
   {
    "duration": 78,
    "start_time": "2021-12-12T21:27:19.553Z"
   },
   {
    "duration": 73,
    "start_time": "2021-12-12T21:27:19.634Z"
   },
   {
    "duration": 78,
    "start_time": "2021-12-12T21:27:19.710Z"
   },
   {
    "duration": 79,
    "start_time": "2021-12-12T21:47:05.351Z"
   },
   {
    "duration": 441,
    "start_time": "2021-12-12T21:47:05.432Z"
   },
   {
    "duration": -597,
    "start_time": "2021-12-12T21:47:06.472Z"
   },
   {
    "duration": 77,
    "start_time": "2021-12-12T21:51:17.829Z"
   },
   {
    "duration": 98,
    "start_time": "2021-12-12T21:51:17.909Z"
   },
   {
    "duration": 50,
    "start_time": "2021-12-12T21:51:18.011Z"
   },
   {
    "duration": 77,
    "start_time": "2021-12-12T21:52:07.066Z"
   },
   {
    "duration": 76,
    "start_time": "2021-12-12T21:52:07.145Z"
   },
   {
    "duration": 57,
    "start_time": "2021-12-12T21:52:07.224Z"
   },
   {
    "duration": 78,
    "start_time": "2021-12-12T21:52:25.172Z"
   },
   {
    "duration": 68,
    "start_time": "2021-12-12T21:52:25.254Z"
   },
   {
    "duration": 59,
    "start_time": "2021-12-12T21:52:25.325Z"
   },
   {
    "duration": 76,
    "start_time": "2021-12-12T22:17:09.163Z"
   },
   {
    "duration": 79,
    "start_time": "2021-12-12T22:17:09.241Z"
   },
   {
    "duration": 398,
    "start_time": "2021-12-12T22:17:09.324Z"
   },
   {
    "duration": 75,
    "start_time": "2021-12-12T22:17:25.201Z"
   },
   {
    "duration": 84,
    "start_time": "2021-12-12T22:17:25.279Z"
   },
   {
    "duration": 410,
    "start_time": "2021-12-12T22:17:25.366Z"
   },
   {
    "duration": 78,
    "start_time": "2021-12-12T22:17:40.921Z"
   },
   {
    "duration": 100,
    "start_time": "2021-12-12T22:17:41.002Z"
   },
   {
    "duration": 577,
    "start_time": "2021-12-12T22:17:41.105Z"
   },
   {
    "duration": 74,
    "start_time": "2021-12-12T22:17:52.079Z"
   },
   {
    "duration": 67,
    "start_time": "2021-12-12T22:17:52.156Z"
   },
   {
    "duration": 833,
    "start_time": "2021-12-12T22:17:52.226Z"
   },
   {
    "duration": 77,
    "start_time": "2021-12-12T22:18:01.304Z"
   },
   {
    "duration": 87,
    "start_time": "2021-12-12T22:18:01.383Z"
   },
   {
    "duration": 409,
    "start_time": "2021-12-12T22:18:01.473Z"
   },
   {
    "duration": 74,
    "start_time": "2021-12-12T22:19:22.781Z"
   },
   {
    "duration": 68,
    "start_time": "2021-12-12T22:19:22.857Z"
   },
   {
    "duration": 395,
    "start_time": "2021-12-12T22:19:22.928Z"
   },
   {
    "duration": 393,
    "start_time": "2021-12-12T22:19:23.325Z"
   },
   {
    "duration": 77,
    "start_time": "2021-12-12T22:19:49.118Z"
   },
   {
    "duration": 91,
    "start_time": "2021-12-12T22:19:49.198Z"
   },
   {
    "duration": 455,
    "start_time": "2021-12-12T22:19:49.292Z"
   },
   {
    "duration": 438,
    "start_time": "2021-12-12T22:19:49.749Z"
   },
   {
    "duration": 78,
    "start_time": "2021-12-12T22:20:28.511Z"
   },
   {
    "duration": 87,
    "start_time": "2021-12-12T22:20:28.592Z"
   },
   {
    "duration": 424,
    "start_time": "2021-12-12T22:20:28.683Z"
   },
   {
    "duration": 28010,
    "start_time": "2021-12-12T22:20:29.110Z"
   },
   {
    "duration": 75,
    "start_time": "2021-12-12T22:21:53.268Z"
   },
   {
    "duration": 74,
    "start_time": "2021-12-12T22:21:53.346Z"
   },
   {
    "duration": 567,
    "start_time": "2021-12-12T22:21:53.423Z"
   },
   {
    "duration": 28287,
    "start_time": "2021-12-12T22:21:53.993Z"
   },
   {
    "duration": 78,
    "start_time": "2021-12-12T22:51:32.801Z"
   },
   {
    "duration": 81,
    "start_time": "2021-12-12T22:51:32.881Z"
   },
   {
    "duration": 561,
    "start_time": "2021-12-12T22:51:32.966Z"
   },
   {
    "duration": 2356,
    "start_time": "2021-12-12T22:51:33.530Z"
   },
   {
    "duration": 76,
    "start_time": "2021-12-12T22:52:18.424Z"
   },
   {
    "duration": 88,
    "start_time": "2021-12-12T22:52:18.502Z"
   },
   {
    "duration": 555,
    "start_time": "2021-12-12T22:52:18.593Z"
   },
   {
    "duration": 200,
    "start_time": "2021-12-12T22:52:19.150Z"
   },
   {
    "duration": 78,
    "start_time": "2021-12-12T22:54:05.473Z"
   },
   {
    "duration": 79,
    "start_time": "2021-12-12T22:54:05.554Z"
   },
   {
    "duration": 570,
    "start_time": "2021-12-12T22:54:05.636Z"
   },
   {
    "duration": 137,
    "start_time": "2021-12-12T22:54:06.209Z"
   },
   {
    "duration": 74,
    "start_time": "2021-12-12T22:54:42.107Z"
   },
   {
    "duration": 77,
    "start_time": "2021-12-12T22:54:42.184Z"
   },
   {
    "duration": 543,
    "start_time": "2021-12-12T22:54:42.264Z"
   },
   {
    "duration": -595,
    "start_time": "2021-12-12T22:55:48.690Z"
   },
   {
    "duration": -599,
    "start_time": "2021-12-12T22:55:48.695Z"
   },
   {
    "duration": -600,
    "start_time": "2021-12-12T22:55:48.697Z"
   },
   {
    "duration": -599,
    "start_time": "2021-12-12T22:55:48.698Z"
   },
   {
    "duration": 78,
    "start_time": "2021-12-12T22:55:51.748Z"
   },
   {
    "duration": 90,
    "start_time": "2021-12-12T22:55:51.829Z"
   },
   {
    "duration": 560,
    "start_time": "2021-12-12T22:55:51.922Z"
   },
   {
    "duration": -566,
    "start_time": "2021-12-12T22:57:37.744Z"
   },
   {
    "duration": -570,
    "start_time": "2021-12-12T22:57:37.750Z"
   },
   {
    "duration": -570,
    "start_time": "2021-12-12T22:57:37.751Z"
   },
   {
    "duration": -570,
    "start_time": "2021-12-12T22:57:37.753Z"
   },
   {
    "duration": 76,
    "start_time": "2021-12-12T22:57:39.136Z"
   },
   {
    "duration": 83,
    "start_time": "2021-12-12T22:57:39.215Z"
   },
   {
    "duration": 1271,
    "start_time": "2021-12-12T22:57:39.301Z"
   },
   {
    "duration": -591,
    "start_time": "2021-12-12T22:59:20.393Z"
   },
   {
    "duration": -591,
    "start_time": "2021-12-12T22:59:20.395Z"
   },
   {
    "duration": -592,
    "start_time": "2021-12-12T22:59:20.397Z"
   },
   {
    "duration": -591,
    "start_time": "2021-12-12T22:59:20.398Z"
   },
   {
    "duration": 72,
    "start_time": "2021-12-12T22:59:25.530Z"
   },
   {
    "duration": 79,
    "start_time": "2021-12-12T22:59:25.605Z"
   },
   {
    "duration": 1008,
    "start_time": "2021-12-12T22:59:25.755Z"
   },
   {
    "duration": -543,
    "start_time": "2021-12-12T23:00:13.459Z"
   },
   {
    "duration": -542,
    "start_time": "2021-12-12T23:00:13.460Z"
   },
   {
    "duration": -558,
    "start_time": "2021-12-12T23:00:13.477Z"
   },
   {
    "duration": -557,
    "start_time": "2021-12-12T23:00:13.478Z"
   },
   {
    "duration": 77,
    "start_time": "2021-12-12T23:00:15.662Z"
   },
   {
    "duration": 75,
    "start_time": "2021-12-12T23:00:15.742Z"
   },
   {
    "duration": 1374,
    "start_time": "2021-12-12T23:00:15.820Z"
   },
   {
    "duration": 118921,
    "start_time": "2021-12-12T23:00:17.196Z"
   },
   {
    "duration": 84,
    "start_time": "2021-12-12T23:04:21.830Z"
   },
   {
    "duration": 92,
    "start_time": "2021-12-12T23:04:21.916Z"
   },
   {
    "duration": 978,
    "start_time": "2021-12-12T23:04:22.011Z"
   },
   {
    "duration": -635,
    "start_time": "2021-12-12T23:06:28.114Z"
   },
   {
    "duration": -636,
    "start_time": "2021-12-12T23:06:28.116Z"
   },
   {
    "duration": -636,
    "start_time": "2021-12-12T23:06:28.118Z"
   },
   {
    "duration": -636,
    "start_time": "2021-12-12T23:06:28.119Z"
   },
   {
    "duration": -636,
    "start_time": "2021-12-12T23:06:28.121Z"
   },
   {
    "duration": 85,
    "start_time": "2021-12-12T23:06:31.053Z"
   },
   {
    "duration": 88,
    "start_time": "2021-12-12T23:06:31.141Z"
   },
   {
    "duration": 1445,
    "start_time": "2021-12-12T23:06:31.233Z"
   },
   {
    "duration": -483,
    "start_time": "2021-12-12T23:06:33.163Z"
   },
   {
    "duration": -485,
    "start_time": "2021-12-12T23:06:33.167Z"
   },
   {
    "duration": 80,
    "start_time": "2021-12-12T23:08:10.550Z"
   },
   {
    "duration": 84,
    "start_time": "2021-12-12T23:08:10.633Z"
   },
   {
    "duration": 970,
    "start_time": "2021-12-12T23:08:10.720Z"
   },
   {
    "duration": -541,
    "start_time": "2021-12-12T23:08:29.144Z"
   },
   {
    "duration": -540,
    "start_time": "2021-12-12T23:08:29.145Z"
   },
   {
    "duration": -540,
    "start_time": "2021-12-12T23:08:29.147Z"
   },
   {
    "duration": -539,
    "start_time": "2021-12-12T23:08:29.148Z"
   },
   {
    "duration": -561,
    "start_time": "2021-12-12T23:08:29.172Z"
   },
   {
    "duration": 80,
    "start_time": "2021-12-12T23:08:31.317Z"
   },
   {
    "duration": 79,
    "start_time": "2021-12-12T23:08:31.399Z"
   },
   {
    "duration": 953,
    "start_time": "2021-12-12T23:08:31.481Z"
   },
   {
    "duration": 50,
    "start_time": "2021-12-12T23:10:30.281Z"
   },
   {
    "duration": 117511,
    "start_time": "2021-12-12T23:10:30.334Z"
   },
   {
    "duration": 79,
    "start_time": "2021-12-12T23:25:06.044Z"
   },
   {
    "duration": 98,
    "start_time": "2021-12-12T23:25:06.126Z"
   },
   {
    "duration": 134,
    "start_time": "2021-12-12T23:25:06.227Z"
   },
   {
    "duration": -562,
    "start_time": "2021-12-12T23:25:06.926Z"
   },
   {
    "duration": -570,
    "start_time": "2021-12-12T23:25:06.935Z"
   },
   {
    "duration": -576,
    "start_time": "2021-12-12T23:25:06.943Z"
   },
   {
    "duration": 75,
    "start_time": "2021-12-12T23:25:19.380Z"
   },
   {
    "duration": 69,
    "start_time": "2021-12-12T23:25:19.458Z"
   },
   {
    "duration": 277,
    "start_time": "2021-12-12T23:25:19.530Z"
   },
   {
    "duration": -508,
    "start_time": "2021-12-12T23:25:20.318Z"
   },
   {
    "duration": -531,
    "start_time": "2021-12-12T23:25:20.343Z"
   },
   {
    "duration": -554,
    "start_time": "2021-12-12T23:25:20.367Z"
   },
   {
    "duration": 74,
    "start_time": "2021-12-12T23:25:31.771Z"
   },
   {
    "duration": 72,
    "start_time": "2021-12-12T23:25:31.848Z"
   },
   {
    "duration": 10,
    "start_time": "2021-12-12T23:25:31.924Z"
   },
   {
    "duration": 1089,
    "start_time": "2021-12-12T23:25:31.936Z"
   },
   {
    "duration": 117913,
    "start_time": "2021-12-12T23:25:33.028Z"
   },
   {
    "duration": 59,
    "start_time": "2021-12-12T23:27:30.944Z"
   },
   {
    "duration": 76,
    "start_time": "2021-12-12T23:27:56.397Z"
   },
   {
    "duration": 83,
    "start_time": "2021-12-12T23:27:56.476Z"
   },
   {
    "duration": 8,
    "start_time": "2021-12-12T23:27:56.562Z"
   },
   {
    "duration": 968,
    "start_time": "2021-12-12T23:27:56.572Z"
   },
   {
    "duration": 24440,
    "start_time": "2021-12-12T23:27:57.543Z"
   },
   {
    "duration": -570,
    "start_time": "2021-12-12T23:28:22.556Z"
   },
   {
    "duration": -578,
    "start_time": "2021-12-12T23:28:22.565Z"
   },
   {
    "duration": 78,
    "start_time": "2021-12-12T23:28:28.420Z"
   },
   {
    "duration": 77,
    "start_time": "2021-12-12T23:28:28.501Z"
   },
   {
    "duration": 9,
    "start_time": "2021-12-12T23:28:28.581Z"
   },
   {
    "duration": 379,
    "start_time": "2021-12-12T23:28:28.592Z"
   },
   {
    "duration": 76,
    "start_time": "2021-12-12T23:29:05.626Z"
   },
   {
    "duration": 89,
    "start_time": "2021-12-12T23:29:05.704Z"
   },
   {
    "duration": 8,
    "start_time": "2021-12-12T23:29:05.796Z"
   },
   {
    "duration": 15,
    "start_time": "2021-12-12T23:29:05.807Z"
   },
   {
    "duration": 75,
    "start_time": "2021-12-12T23:29:56.351Z"
   },
   {
    "duration": 81,
    "start_time": "2021-12-12T23:29:56.428Z"
   },
   {
    "duration": 6,
    "start_time": "2021-12-12T23:29:56.512Z"
   },
   {
    "duration": 14,
    "start_time": "2021-12-12T23:29:56.521Z"
   },
   {
    "duration": 81,
    "start_time": "2021-12-12T23:31:07.723Z"
   },
   {
    "duration": 86,
    "start_time": "2021-12-12T23:31:07.808Z"
   },
   {
    "duration": 8,
    "start_time": "2021-12-12T23:31:07.897Z"
   },
   {
    "duration": 55,
    "start_time": "2021-12-12T23:31:07.909Z"
   },
   {
    "duration": 79,
    "start_time": "2021-12-12T23:31:25.104Z"
   },
   {
    "duration": 84,
    "start_time": "2021-12-12T23:31:25.186Z"
   },
   {
    "duration": 7,
    "start_time": "2021-12-12T23:31:25.272Z"
   },
   {
    "duration": 19,
    "start_time": "2021-12-12T23:31:25.282Z"
   },
   {
    "duration": 75,
    "start_time": "2021-12-12T23:32:11.747Z"
   },
   {
    "duration": 75,
    "start_time": "2021-12-12T23:32:11.836Z"
   },
   {
    "duration": 8,
    "start_time": "2021-12-12T23:32:11.914Z"
   },
   {
    "duration": 421,
    "start_time": "2021-12-12T23:32:11.925Z"
   },
   {
    "duration": 78,
    "start_time": "2021-12-12T23:32:22.627Z"
   },
   {
    "duration": 84,
    "start_time": "2021-12-12T23:32:22.708Z"
   },
   {
    "duration": 7,
    "start_time": "2021-12-12T23:32:22.795Z"
   },
   {
    "duration": 16,
    "start_time": "2021-12-12T23:32:22.805Z"
   },
   {
    "duration": 78,
    "start_time": "2021-12-12T23:38:51.051Z"
   },
   {
    "duration": 85,
    "start_time": "2021-12-12T23:38:51.132Z"
   },
   {
    "duration": 8,
    "start_time": "2021-12-12T23:38:51.220Z"
   },
   {
    "duration": 42,
    "start_time": "2021-12-12T23:38:51.230Z"
   },
   {
    "duration": 80,
    "start_time": "2021-12-12T23:39:09.715Z"
   },
   {
    "duration": 89,
    "start_time": "2021-12-12T23:39:09.798Z"
   },
   {
    "duration": 7,
    "start_time": "2021-12-12T23:39:09.890Z"
   },
   {
    "duration": 19,
    "start_time": "2021-12-12T23:39:09.899Z"
   },
   {
    "duration": 83,
    "start_time": "2021-12-12T23:39:39.774Z"
   },
   {
    "duration": 69,
    "start_time": "2021-12-12T23:39:39.859Z"
   },
   {
    "duration": 7,
    "start_time": "2021-12-12T23:39:39.931Z"
   },
   {
    "duration": 131,
    "start_time": "2021-12-12T23:39:39.940Z"
   },
   {
    "duration": 77,
    "start_time": "2021-12-12T23:40:40.856Z"
   },
   {
    "duration": 87,
    "start_time": "2021-12-12T23:40:40.936Z"
   },
   {
    "duration": 10,
    "start_time": "2021-12-12T23:40:41.027Z"
   },
   {
    "duration": 390,
    "start_time": "2021-12-12T23:40:41.059Z"
   },
   {
    "duration": 75,
    "start_time": "2021-12-12T23:41:12.140Z"
   },
   {
    "duration": 91,
    "start_time": "2021-12-12T23:41:12.218Z"
   },
   {
    "duration": 7,
    "start_time": "2021-12-12T23:41:12.312Z"
   },
   {
    "duration": 145,
    "start_time": "2021-12-12T23:41:12.322Z"
   },
   {
    "duration": 81,
    "start_time": "2021-12-12T23:41:30.318Z"
   },
   {
    "duration": 86,
    "start_time": "2021-12-12T23:41:30.402Z"
   },
   {
    "duration": 8,
    "start_time": "2021-12-12T23:41:30.491Z"
   },
   {
    "duration": 409,
    "start_time": "2021-12-12T23:41:30.502Z"
   },
   {
    "duration": 76,
    "start_time": "2021-12-12T23:41:57.780Z"
   },
   {
    "duration": 67,
    "start_time": "2021-12-12T23:41:57.859Z"
   },
   {
    "duration": 7,
    "start_time": "2021-12-12T23:41:57.930Z"
   },
   {
    "duration": 128,
    "start_time": "2021-12-12T23:41:57.939Z"
   },
   {
    "duration": 77,
    "start_time": "2021-12-12T23:42:31.240Z"
   },
   {
    "duration": 76,
    "start_time": "2021-12-12T23:42:31.319Z"
   },
   {
    "duration": 8,
    "start_time": "2021-12-12T23:42:31.397Z"
   },
   {
    "duration": 632,
    "start_time": "2021-12-12T23:42:31.408Z"
   },
   {
    "duration": 76,
    "start_time": "2021-12-12T23:42:39.022Z"
   },
   {
    "duration": 88,
    "start_time": "2021-12-12T23:42:39.100Z"
   },
   {
    "duration": 8,
    "start_time": "2021-12-12T23:42:39.191Z"
   },
   {
    "duration": 165,
    "start_time": "2021-12-12T23:42:39.202Z"
   },
   {
    "duration": 78,
    "start_time": "2021-12-12T23:43:06.792Z"
   },
   {
    "duration": 66,
    "start_time": "2021-12-12T23:43:06.872Z"
   },
   {
    "duration": 23,
    "start_time": "2021-12-12T23:43:06.941Z"
   },
   {
    "duration": 193,
    "start_time": "2021-12-12T23:43:06.966Z"
   },
   {
    "duration": 74,
    "start_time": "2021-12-12T23:47:16.653Z"
   },
   {
    "duration": 82,
    "start_time": "2021-12-12T23:47:16.730Z"
   },
   {
    "duration": 7,
    "start_time": "2021-12-12T23:47:16.815Z"
   },
   {
    "duration": 138,
    "start_time": "2021-12-12T23:47:16.824Z"
   },
   {
    "duration": 1851,
    "start_time": "2021-12-12T23:47:16.965Z"
   },
   {
    "duration": 144,
    "start_time": "2021-12-12T23:47:18.818Z"
   },
   {
    "duration": 77,
    "start_time": "2021-12-12T23:48:08.816Z"
   },
   {
    "duration": 91,
    "start_time": "2021-12-12T23:48:08.896Z"
   },
   {
    "duration": 7,
    "start_time": "2021-12-12T23:48:08.990Z"
   },
   {
    "duration": 165,
    "start_time": "2021-12-12T23:48:08.999Z"
   },
   {
    "duration": 1778,
    "start_time": "2021-12-12T23:48:09.168Z"
   },
   {
    "duration": 70735,
    "start_time": "2021-12-12T23:48:10.949Z"
   },
   {
    "duration": 83,
    "start_time": "2021-12-12T23:49:21.687Z"
   },
   {
    "duration": 78,
    "start_time": "2021-12-12T23:58:00.860Z"
   },
   {
    "duration": 80,
    "start_time": "2021-12-12T23:58:00.941Z"
   },
   {
    "duration": 7,
    "start_time": "2021-12-12T23:58:01.024Z"
   },
   {
    "duration": 228,
    "start_time": "2021-12-12T23:58:01.034Z"
   },
   {
    "duration": 1427,
    "start_time": "2021-12-12T23:58:01.266Z"
   },
   {
    "duration": 397,
    "start_time": "2021-12-12T23:58:02.696Z"
   },
   {
    "duration": -579,
    "start_time": "2021-12-12T23:58:03.674Z"
   },
   {
    "duration": 78,
    "start_time": "2021-12-13T00:00:02.280Z"
   },
   {
    "duration": 72,
    "start_time": "2021-12-13T00:00:02.360Z"
   },
   {
    "duration": 26,
    "start_time": "2021-12-13T00:00:02.436Z"
   },
   {
    "duration": 194,
    "start_time": "2021-12-13T00:00:02.465Z"
   },
   {
    "duration": 1769,
    "start_time": "2021-12-13T00:00:02.663Z"
   },
   {
    "duration": 4727,
    "start_time": "2021-12-13T00:00:04.435Z"
   },
   {
    "duration": 196,
    "start_time": "2021-12-13T00:00:09.165Z"
   },
   {
    "duration": 78,
    "start_time": "2021-12-13T00:00:55.389Z"
   },
   {
    "duration": 94,
    "start_time": "2021-12-13T00:00:55.471Z"
   },
   {
    "duration": 8,
    "start_time": "2021-12-13T00:00:55.568Z"
   },
   {
    "duration": 183,
    "start_time": "2021-12-13T00:00:55.578Z"
   },
   {
    "duration": 1509,
    "start_time": "2021-12-13T00:00:55.765Z"
   },
   {
    "duration": 4685,
    "start_time": "2021-12-13T00:00:57.277Z"
   },
   {
    "duration": 196,
    "start_time": "2021-12-13T00:01:01.965Z"
   },
   {
    "duration": 78,
    "start_time": "2021-12-13T00:01:39.913Z"
   },
   {
    "duration": 102,
    "start_time": "2021-12-13T00:01:39.994Z"
   },
   {
    "duration": 9,
    "start_time": "2021-12-13T00:01:40.099Z"
   },
   {
    "duration": 154,
    "start_time": "2021-12-13T00:01:40.111Z"
   },
   {
    "duration": 1742,
    "start_time": "2021-12-13T00:01:40.268Z"
   },
   {
    "duration": -781,
    "start_time": "2021-12-13T00:03:32.315Z"
   },
   {
    "duration": -790,
    "start_time": "2021-12-13T00:03:32.326Z"
   },
   {
    "duration": -799,
    "start_time": "2021-12-13T00:03:32.336Z"
   },
   {
    "duration": -834,
    "start_time": "2021-12-13T00:03:32.373Z"
   },
   {
    "duration": -868,
    "start_time": "2021-12-13T00:03:32.408Z"
   },
   {
    "duration": -882,
    "start_time": "2021-12-13T00:03:32.424Z"
   },
   {
    "duration": -887,
    "start_time": "2021-12-13T00:03:32.430Z"
   },
   {
    "duration": 79,
    "start_time": "2021-12-13T00:03:33.581Z"
   },
   {
    "duration": 68,
    "start_time": "2021-12-13T00:03:33.663Z"
   },
   {
    "duration": 26,
    "start_time": "2021-12-13T00:03:33.734Z"
   },
   {
    "duration": 197,
    "start_time": "2021-12-13T00:03:33.762Z"
   },
   {
    "duration": 1879,
    "start_time": "2021-12-13T00:03:33.963Z"
   },
   {
    "duration": -675,
    "start_time": "2021-12-13T00:06:00.657Z"
   },
   {
    "duration": -684,
    "start_time": "2021-12-13T00:06:00.667Z"
   },
   {
    "duration": -689,
    "start_time": "2021-12-13T00:06:00.673Z"
   },
   {
    "duration": -694,
    "start_time": "2021-12-13T00:06:00.680Z"
   },
   {
    "duration": -701,
    "start_time": "2021-12-13T00:06:00.688Z"
   },
   {
    "duration": -705,
    "start_time": "2021-12-13T00:06:00.693Z"
   },
   {
    "duration": -713,
    "start_time": "2021-12-13T00:06:00.703Z"
   },
   {
    "duration": 76,
    "start_time": "2021-12-13T00:06:04.844Z"
   },
   {
    "duration": 98,
    "start_time": "2021-12-13T00:06:04.923Z"
   },
   {
    "duration": 10,
    "start_time": "2021-12-13T00:06:05.025Z"
   },
   {
    "duration": 138,
    "start_time": "2021-12-13T00:06:05.039Z"
   },
   {
    "duration": 2825,
    "start_time": "2021-12-13T00:06:05.180Z"
   },
   {
    "duration": 39297,
    "start_time": "2021-12-13T00:06:08.007Z"
   },
   {
    "duration": -669,
    "start_time": "2021-12-13T00:06:47.975Z"
   },
   {
    "duration": 80,
    "start_time": "2021-12-13T00:06:48.430Z"
   },
   {
    "duration": 92,
    "start_time": "2021-12-13T00:06:48.512Z"
   },
   {
    "duration": 8,
    "start_time": "2021-12-13T00:06:48.607Z"
   },
   {
    "duration": 145,
    "start_time": "2021-12-13T00:06:48.618Z"
   },
   {
    "duration": 2732,
    "start_time": "2021-12-13T00:06:48.766Z"
   },
   {
    "duration": 71363,
    "start_time": "2021-12-13T00:06:51.501Z"
   },
   {
    "duration": 102,
    "start_time": "2021-12-13T00:08:02.959Z"
   },
   {
    "duration": 76,
    "start_time": "2021-12-13T00:14:19.909Z"
   },
   {
    "duration": 105,
    "start_time": "2021-12-13T00:14:19.988Z"
   },
   {
    "duration": 10,
    "start_time": "2021-12-13T00:14:20.097Z"
   },
   {
    "duration": 49,
    "start_time": "2021-12-13T00:14:20.111Z"
   },
   {
    "duration": 1672,
    "start_time": "2021-12-13T00:14:20.163Z"
   },
   {
    "duration": 77,
    "start_time": "2021-12-13T00:15:09.378Z"
   },
   {
    "duration": 70,
    "start_time": "2021-12-13T00:15:09.458Z"
   },
   {
    "duration": 8,
    "start_time": "2021-12-13T00:15:09.531Z"
   },
   {
    "duration": 108,
    "start_time": "2021-12-13T00:15:09.560Z"
   },
   {
    "duration": 1812,
    "start_time": "2021-12-13T00:15:09.762Z"
   },
   {
    "duration": 123,
    "start_time": "2021-12-13T00:18:01.372Z"
   },
   {
    "duration": 179,
    "start_time": "2021-12-13T00:18:01.498Z"
   },
   {
    "duration": 8,
    "start_time": "2021-12-13T00:18:01.680Z"
   },
   {
    "duration": 275,
    "start_time": "2021-12-13T00:18:01.690Z"
   },
   {
    "duration": 1305,
    "start_time": "2021-12-13T00:18:01.968Z"
   },
   {
    "duration": 8487,
    "start_time": "2021-12-13T00:18:03.275Z"
   },
   {
    "duration": 118,
    "start_time": "2021-12-13T00:18:17.275Z"
   },
   {
    "duration": 180,
    "start_time": "2021-12-13T00:18:17.396Z"
   },
   {
    "duration": 8,
    "start_time": "2021-12-13T00:18:17.579Z"
   },
   {
    "duration": 273,
    "start_time": "2021-12-13T00:18:17.589Z"
   },
   {
    "duration": 1397,
    "start_time": "2021-12-13T00:18:17.865Z"
   },
   {
    "duration": 8993,
    "start_time": "2021-12-13T00:18:19.265Z"
   },
   {
    "duration": 132,
    "start_time": "2021-12-13T00:18:46.638Z"
   },
   {
    "duration": 191,
    "start_time": "2021-12-13T00:18:46.774Z"
   },
   {
    "duration": 10,
    "start_time": "2021-12-13T00:18:46.968Z"
   },
   {
    "duration": 285,
    "start_time": "2021-12-13T00:18:46.981Z"
   },
   {
    "duration": 1903,
    "start_time": "2021-12-13T00:18:47.269Z"
   },
   {
    "duration": 19387,
    "start_time": "2021-12-13T00:18:49.175Z"
   },
   {
    "duration": 134,
    "start_time": "2021-12-13T00:19:23.351Z"
   },
   {
    "duration": 183,
    "start_time": "2021-12-13T00:19:23.488Z"
   },
   {
    "duration": 8,
    "start_time": "2021-12-13T00:19:23.674Z"
   },
   {
    "duration": 376,
    "start_time": "2021-12-13T00:19:23.685Z"
   },
   {
    "duration": 1106,
    "start_time": "2021-12-13T00:19:24.064Z"
   },
   {
    "duration": 30289,
    "start_time": "2021-12-13T00:19:25.173Z"
   },
   {
    "duration": 127,
    "start_time": "2021-12-13T00:20:26.960Z"
   },
   {
    "duration": 183,
    "start_time": "2021-12-13T00:20:27.090Z"
   },
   {
    "duration": 7,
    "start_time": "2021-12-13T00:20:27.276Z"
   },
   {
    "duration": 89,
    "start_time": "2021-12-13T00:20:27.286Z"
   },
   {
    "duration": 48894,
    "start_time": "2021-12-13T00:20:27.378Z"
   },
   {
    "duration": 150,
    "start_time": "2021-12-13T00:21:44.715Z"
   },
   {
    "duration": 132,
    "start_time": "2021-12-13T00:21:44.868Z"
   },
   {
    "duration": 62,
    "start_time": "2021-12-13T00:21:45.003Z"
   },
   {
    "duration": 18,
    "start_time": "2021-12-13T00:21:45.067Z"
   },
   {
    "duration": 483,
    "start_time": "2021-12-13T00:21:45.087Z"
   },
   {
    "duration": 77,
    "start_time": "2021-12-13T00:22:22.997Z"
   },
   {
    "duration": 67,
    "start_time": "2021-12-13T00:22:23.076Z"
   },
   {
    "duration": 8,
    "start_time": "2021-12-13T00:22:23.159Z"
   },
   {
    "duration": 18,
    "start_time": "2021-12-13T00:22:23.169Z"
   },
   {
    "duration": 1369,
    "start_time": "2021-12-13T00:22:23.190Z"
   },
   {
    "duration": 1188,
    "start_time": "2021-12-13T00:22:34.274Z"
   },
   {
    "duration": 75,
    "start_time": "2021-12-13T00:24:47.809Z"
   },
   {
    "duration": 90,
    "start_time": "2021-12-13T00:24:47.887Z"
   },
   {
    "duration": 7,
    "start_time": "2021-12-13T00:24:47.980Z"
   },
   {
    "duration": 15,
    "start_time": "2021-12-13T00:24:47.990Z"
   },
   {
    "duration": 571,
    "start_time": "2021-12-13T00:24:48.008Z"
   },
   {
    "duration": 172,
    "start_time": "2021-12-13T00:24:48.582Z"
   },
   {
    "duration": 75,
    "start_time": "2021-12-13T00:25:06.281Z"
   },
   {
    "duration": 68,
    "start_time": "2021-12-13T00:25:06.358Z"
   },
   {
    "duration": 7,
    "start_time": "2021-12-13T00:25:06.429Z"
   },
   {
    "duration": 39,
    "start_time": "2021-12-13T00:25:06.438Z"
   },
   {
    "duration": 640,
    "start_time": "2021-12-13T00:25:06.479Z"
   },
   {
    "duration": 71570,
    "start_time": "2021-12-13T00:25:07.122Z"
   },
   {
    "duration": 74,
    "start_time": "2021-12-13T00:27:05.849Z"
   },
   {
    "duration": 86,
    "start_time": "2021-12-13T00:27:05.926Z"
   },
   {
    "duration": 6,
    "start_time": "2021-12-13T00:27:06.015Z"
   },
   {
    "duration": 39,
    "start_time": "2021-12-13T00:27:06.024Z"
   },
   {
    "duration": 557,
    "start_time": "2021-12-13T00:27:06.066Z"
   },
   {
    "duration": 5956,
    "start_time": "2021-12-13T00:27:06.625Z"
   },
   {
    "duration": -3593,
    "start_time": "2021-12-13T00:27:16.177Z"
   },
   {
    "duration": 74,
    "start_time": "2021-12-13T00:27:17.470Z"
   },
   {
    "duration": 69,
    "start_time": "2021-12-13T00:27:17.547Z"
   },
   {
    "duration": 7,
    "start_time": "2021-12-13T00:27:17.619Z"
   },
   {
    "duration": 38,
    "start_time": "2021-12-13T00:27:17.628Z"
   },
   {
    "duration": 638,
    "start_time": "2021-12-13T00:27:17.669Z"
   },
   {
    "duration": 50,
    "start_time": "2021-12-13T00:27:18.309Z"
   },
   {
    "duration": 74,
    "start_time": "2021-12-13T00:28:25.965Z"
   },
   {
    "duration": 79,
    "start_time": "2021-12-13T00:28:26.041Z"
   },
   {
    "duration": 8,
    "start_time": "2021-12-13T00:28:26.124Z"
   },
   {
    "duration": 36,
    "start_time": "2021-12-13T00:28:26.134Z"
   },
   {
    "duration": 540,
    "start_time": "2021-12-13T00:28:26.173Z"
   },
   {
    "duration": 51,
    "start_time": "2021-12-13T00:28:26.716Z"
   },
   {
    "duration": 84,
    "start_time": "2021-12-13T00:32:41.013Z"
   },
   {
    "duration": 98,
    "start_time": "2021-12-13T00:32:41.101Z"
   },
   {
    "duration": 7,
    "start_time": "2021-12-13T00:32:41.203Z"
   },
   {
    "duration": 47,
    "start_time": "2021-12-13T00:32:41.214Z"
   },
   {
    "duration": 557,
    "start_time": "2021-12-13T00:32:41.264Z"
   },
   {
    "duration": 435,
    "start_time": "2021-12-13T00:32:41.824Z"
   },
   {
    "duration": 37,
    "start_time": "2021-12-13T00:32:42.261Z"
   },
   {
    "duration": 74,
    "start_time": "2021-12-13T00:34:28.223Z"
   },
   {
    "duration": 79,
    "start_time": "2021-12-13T00:34:28.300Z"
   },
   {
    "duration": 8,
    "start_time": "2021-12-13T00:34:28.382Z"
   },
   {
    "duration": 17,
    "start_time": "2021-12-13T00:34:28.392Z"
   },
   {
    "duration": 673,
    "start_time": "2021-12-13T00:34:28.412Z"
   },
   {
    "duration": 472,
    "start_time": "2021-12-13T00:34:29.088Z"
   },
   {
    "duration": 129,
    "start_time": "2021-12-13T00:34:29.565Z"
   },
   {
    "duration": 77,
    "start_time": "2021-12-13T00:35:22.284Z"
   },
   {
    "duration": 70,
    "start_time": "2021-12-13T00:35:22.363Z"
   },
   {
    "duration": 25,
    "start_time": "2021-12-13T00:35:22.436Z"
   },
   {
    "duration": 18,
    "start_time": "2021-12-13T00:35:22.464Z"
   },
   {
    "duration": 560,
    "start_time": "2021-12-13T00:35:22.484Z"
   },
   {
    "duration": 320,
    "start_time": "2021-12-13T00:35:23.047Z"
   },
   {
    "duration": 126,
    "start_time": "2021-12-13T00:35:23.459Z"
   },
   {
    "duration": 83,
    "start_time": "2021-12-13T00:38:49.454Z"
   },
   {
    "duration": 78,
    "start_time": "2021-12-13T00:38:49.540Z"
   },
   {
    "duration": 8,
    "start_time": "2021-12-13T00:38:49.621Z"
   },
   {
    "duration": 37,
    "start_time": "2021-12-13T00:38:49.631Z"
   },
   {
    "duration": 575,
    "start_time": "2021-12-13T00:38:49.670Z"
   },
   {
    "duration": 358,
    "start_time": "2021-12-13T00:38:50.248Z"
   },
   {
    "duration": 50,
    "start_time": "2021-12-13T00:38:50.609Z"
   },
   {
    "duration": 78,
    "start_time": "2021-12-13T00:39:15.970Z"
   },
   {
    "duration": 72,
    "start_time": "2021-12-13T00:39:16.051Z"
   },
   {
    "duration": 8,
    "start_time": "2021-12-13T00:39:16.126Z"
   },
   {
    "duration": 35,
    "start_time": "2021-12-13T00:39:16.137Z"
   },
   {
    "duration": 561,
    "start_time": "2021-12-13T00:39:16.174Z"
   },
   {
    "duration": 468,
    "start_time": "2021-12-13T00:39:16.737Z"
   },
   {
    "duration": 39,
    "start_time": "2021-12-13T00:39:17.260Z"
   },
   {
    "duration": 76,
    "start_time": "2021-12-13T00:39:32.146Z"
   },
   {
    "duration": 91,
    "start_time": "2021-12-13T00:39:32.225Z"
   },
   {
    "duration": 7,
    "start_time": "2021-12-13T00:39:32.319Z"
   },
   {
    "duration": 35,
    "start_time": "2021-12-13T00:39:32.329Z"
   },
   {
    "duration": 549,
    "start_time": "2021-12-13T00:39:32.367Z"
   },
   {
    "duration": 488,
    "start_time": "2021-12-13T00:39:32.918Z"
   },
   {
    "duration": 51,
    "start_time": "2021-12-13T00:39:33.408Z"
   },
   {
    "duration": 80,
    "start_time": "2021-12-13T00:40:00.671Z"
   },
   {
    "duration": 70,
    "start_time": "2021-12-13T00:40:00.754Z"
   },
   {
    "duration": 8,
    "start_time": "2021-12-13T00:40:00.827Z"
   },
   {
    "duration": 18,
    "start_time": "2021-12-13T00:40:00.860Z"
   },
   {
    "duration": 564,
    "start_time": "2021-12-13T00:40:00.881Z"
   },
   {
    "duration": 921,
    "start_time": "2021-12-13T00:40:01.447Z"
   },
   {
    "duration": 100,
    "start_time": "2021-12-13T00:40:02.371Z"
   },
   {
    "duration": 77,
    "start_time": "2021-12-13T00:40:36.321Z"
   },
   {
    "duration": 88,
    "start_time": "2021-12-13T00:40:36.400Z"
   },
   {
    "duration": 8,
    "start_time": "2021-12-13T00:40:36.490Z"
   },
   {
    "duration": 17,
    "start_time": "2021-12-13T00:40:36.501Z"
   },
   {
    "duration": 563,
    "start_time": "2021-12-13T00:40:36.520Z"
   },
   {
    "duration": 421,
    "start_time": "2021-12-13T00:40:37.085Z"
   },
   {
    "duration": 61,
    "start_time": "2021-12-13T00:40:37.509Z"
   },
   {
    "duration": 80,
    "start_time": "2021-12-13T00:46:46.046Z"
   },
   {
    "duration": 91,
    "start_time": "2021-12-13T00:46:46.128Z"
   },
   {
    "duration": 8,
    "start_time": "2021-12-13T00:46:46.221Z"
   },
   {
    "duration": 44,
    "start_time": "2021-12-13T00:46:46.232Z"
   },
   {
    "duration": 160,
    "start_time": "2021-12-13T00:46:46.279Z"
   },
   {
    "duration": -398,
    "start_time": "2021-12-13T00:46:46.840Z"
   },
   {
    "duration": -405,
    "start_time": "2021-12-13T00:46:46.850Z"
   },
   {
    "duration": 78,
    "start_time": "2021-12-13T00:47:06.028Z"
   },
   {
    "duration": 93,
    "start_time": "2021-12-13T00:47:06.108Z"
   },
   {
    "duration": 8,
    "start_time": "2021-12-13T00:47:06.203Z"
   },
   {
    "duration": 16,
    "start_time": "2021-12-13T00:47:06.213Z"
   },
   {
    "duration": 2594,
    "start_time": "2021-12-13T00:47:06.259Z"
   },
   {
    "duration": 300,
    "start_time": "2021-12-13T00:47:08.859Z"
   },
   {
    "duration": 38,
    "start_time": "2021-12-13T00:47:09.162Z"
   },
   {
    "duration": 78,
    "start_time": "2021-12-13T00:48:24.823Z"
   },
   {
    "duration": 93,
    "start_time": "2021-12-13T00:48:24.903Z"
   },
   {
    "duration": 7,
    "start_time": "2021-12-13T00:48:24.999Z"
   },
   {
    "duration": 18,
    "start_time": "2021-12-13T00:48:25.008Z"
   },
   {
    "duration": 580,
    "start_time": "2021-12-13T00:48:25.028Z"
   },
   {
    "duration": 358,
    "start_time": "2021-12-13T00:48:25.611Z"
   },
   {
    "duration": 40,
    "start_time": "2021-12-13T00:48:25.972Z"
   },
   {
    "duration": 79,
    "start_time": "2021-12-13T01:04:37.606Z"
   },
   {
    "duration": 49,
    "start_time": "2021-12-13T01:04:37.687Z"
   },
   {
    "duration": 1201,
    "start_time": "2021-12-13T01:04:37.740Z"
   },
   {
    "duration": -372,
    "start_time": "2021-12-13T01:04:39.316Z"
   },
   {
    "duration": -371,
    "start_time": "2021-12-13T01:04:39.317Z"
   },
   {
    "duration": -398,
    "start_time": "2021-12-13T01:04:39.345Z"
   },
   {
    "duration": -397,
    "start_time": "2021-12-13T01:04:39.347Z"
   },
   {
    "duration": -397,
    "start_time": "2021-12-13T01:04:39.349Z"
   },
   {
    "duration": -396,
    "start_time": "2021-12-13T01:04:39.351Z"
   },
   {
    "duration": -396,
    "start_time": "2021-12-13T01:04:39.353Z"
   },
   {
    "duration": -396,
    "start_time": "2021-12-13T01:04:39.355Z"
   },
   {
    "duration": -397,
    "start_time": "2021-12-13T01:04:39.358Z"
   },
   {
    "duration": -399,
    "start_time": "2021-12-13T01:04:39.362Z"
   },
   {
    "duration": 74,
    "start_time": "2021-12-13T01:06:15.898Z"
   },
   {
    "duration": 48,
    "start_time": "2021-12-13T01:06:15.975Z"
   },
   {
    "duration": 1218,
    "start_time": "2021-12-13T01:06:16.026Z"
   },
   {
    "duration": -382,
    "start_time": "2021-12-13T01:06:17.629Z"
   },
   {
    "duration": -396,
    "start_time": "2021-12-13T01:06:17.645Z"
   },
   {
    "duration": -404,
    "start_time": "2021-12-13T01:06:17.654Z"
   },
   {
    "duration": -405,
    "start_time": "2021-12-13T01:06:17.656Z"
   },
   {
    "duration": -405,
    "start_time": "2021-12-13T01:06:17.658Z"
   },
   {
    "duration": -406,
    "start_time": "2021-12-13T01:06:17.660Z"
   },
   {
    "duration": -407,
    "start_time": "2021-12-13T01:06:17.662Z"
   },
   {
    "duration": -409,
    "start_time": "2021-12-13T01:06:17.666Z"
   },
   {
    "duration": -410,
    "start_time": "2021-12-13T01:06:17.668Z"
   },
   {
    "duration": -411,
    "start_time": "2021-12-13T01:06:17.670Z"
   },
   {
    "duration": 74,
    "start_time": "2021-12-13T01:06:38.544Z"
   },
   {
    "duration": 78,
    "start_time": "2021-12-13T01:06:38.620Z"
   },
   {
    "duration": 1457,
    "start_time": "2021-12-13T01:06:38.701Z"
   },
   {
    "duration": -400,
    "start_time": "2021-12-13T01:06:40.561Z"
   },
   {
    "duration": -401,
    "start_time": "2021-12-13T01:06:40.563Z"
   },
   {
    "duration": -463,
    "start_time": "2021-12-13T01:06:40.626Z"
   },
   {
    "duration": -466,
    "start_time": "2021-12-13T01:06:40.631Z"
   },
   {
    "duration": -469,
    "start_time": "2021-12-13T01:06:40.635Z"
   },
   {
    "duration": -469,
    "start_time": "2021-12-13T01:06:40.637Z"
   },
   {
    "duration": -472,
    "start_time": "2021-12-13T01:06:40.641Z"
   },
   {
    "duration": -471,
    "start_time": "2021-12-13T01:06:40.642Z"
   },
   {
    "duration": -472,
    "start_time": "2021-12-13T01:06:40.644Z"
   },
   {
    "duration": -472,
    "start_time": "2021-12-13T01:06:40.646Z"
   },
   {
    "duration": 80,
    "start_time": "2021-12-13T01:06:49.705Z"
   },
   {
    "duration": 71,
    "start_time": "2021-12-13T01:06:49.789Z"
   },
   {
    "duration": 32216,
    "start_time": "2021-12-13T01:06:49.863Z"
   },
   {
    "duration": 26,
    "start_time": "2021-12-13T01:07:22.082Z"
   },
   {
    "duration": 8,
    "start_time": "2021-12-13T01:07:22.110Z"
   },
   {
    "duration": 978,
    "start_time": "2021-12-13T01:07:22.120Z"
   },
   {
    "duration": -404,
    "start_time": "2021-12-13T01:07:33.390Z"
   },
   {
    "duration": -433,
    "start_time": "2021-12-13T01:07:33.420Z"
   },
   {
    "duration": -434,
    "start_time": "2021-12-13T01:07:33.422Z"
   },
   {
    "duration": -433,
    "start_time": "2021-12-13T01:07:33.423Z"
   },
   {
    "duration": -434,
    "start_time": "2021-12-13T01:07:33.425Z"
   },
   {
    "duration": -435,
    "start_time": "2021-12-13T01:07:33.427Z"
   },
   {
    "duration": -436,
    "start_time": "2021-12-13T01:07:33.429Z"
   },
   {
    "duration": -438,
    "start_time": "2021-12-13T01:07:33.432Z"
   },
   {
    "duration": -448,
    "start_time": "2021-12-13T01:07:33.444Z"
   },
   {
    "duration": -463,
    "start_time": "2021-12-13T01:07:33.460Z"
   },
   {
    "duration": -466,
    "start_time": "2021-12-13T01:07:33.464Z"
   },
   {
    "duration": -472,
    "start_time": "2021-12-13T01:07:33.471Z"
   },
   {
    "duration": -470,
    "start_time": "2021-12-13T01:07:33.472Z"
   },
   {
    "duration": 71,
    "start_time": "2021-12-13T01:07:35.469Z"
   },
   {
    "duration": 54,
    "start_time": "2021-12-13T01:07:35.543Z"
   },
   {
    "duration": 761,
    "start_time": "2021-12-13T01:07:35.600Z"
   },
   {
    "duration": 115,
    "start_time": "2021-12-13T01:07:36.365Z"
   },
   {
    "duration": 10,
    "start_time": "2021-12-13T01:07:36.483Z"
   },
   {
    "duration": 1079,
    "start_time": "2021-12-13T01:07:36.496Z"
   },
   {
    "duration": 118596,
    "start_time": "2021-12-13T01:07:37.578Z"
   },
   {
    "duration": 43,
    "start_time": "2021-12-13T01:09:36.177Z"
   },
   {
    "duration": 138,
    "start_time": "2021-12-13T01:09:36.224Z"
   },
   {
    "duration": 625,
    "start_time": "2021-12-13T01:09:36.366Z"
   },
   {
    "duration": 70028,
    "start_time": "2021-12-13T01:09:36.993Z"
   },
   {
    "duration": 349,
    "start_time": "2021-12-13T01:10:47.023Z"
   },
   {
    "duration": 38,
    "start_time": "2021-12-13T01:10:47.374Z"
   },
   {
    "duration": 1085,
    "start_time": "2021-12-13T09:11:35.206Z"
   },
   {
    "duration": 61,
    "start_time": "2021-12-13T09:11:36.293Z"
   },
   {
    "duration": 44,
    "start_time": "2021-12-13T09:11:36.356Z"
   },
   {
    "duration": 404,
    "start_time": "2021-12-13T09:11:36.401Z"
   },
   {
    "duration": 597,
    "start_time": "2021-12-13T09:11:36.209Z"
   },
   {
    "duration": 595,
    "start_time": "2021-12-13T09:11:36.213Z"
   },
   {
    "duration": 579,
    "start_time": "2021-12-13T09:11:36.229Z"
   },
   {
    "duration": 578,
    "start_time": "2021-12-13T09:11:36.231Z"
   },
   {
    "duration": 576,
    "start_time": "2021-12-13T09:11:36.234Z"
   },
   {
    "duration": 574,
    "start_time": "2021-12-13T09:11:36.238Z"
   },
   {
    "duration": 573,
    "start_time": "2021-12-13T09:11:36.240Z"
   },
   {
    "duration": 570,
    "start_time": "2021-12-13T09:11:36.243Z"
   },
   {
    "duration": 569,
    "start_time": "2021-12-13T09:11:36.245Z"
   },
   {
    "duration": 565,
    "start_time": "2021-12-13T09:11:36.250Z"
   },
   {
    "duration": 1202,
    "start_time": "2021-12-13T12:35:56.030Z"
   },
   {
    "duration": 63,
    "start_time": "2021-12-13T12:35:57.234Z"
   },
   {
    "duration": 37,
    "start_time": "2021-12-13T12:35:57.299Z"
   },
   {
    "duration": 842,
    "start_time": "2021-12-13T12:35:57.338Z"
   },
   {
    "duration": -616,
    "start_time": "2021-12-13T12:35:58.798Z"
   },
   {
    "duration": -651,
    "start_time": "2021-12-13T12:35:58.834Z"
   },
   {
    "duration": -663,
    "start_time": "2021-12-13T12:35:58.847Z"
   },
   {
    "duration": -675,
    "start_time": "2021-12-13T12:35:58.860Z"
   },
   {
    "duration": -686,
    "start_time": "2021-12-13T12:35:58.873Z"
   },
   {
    "duration": -700,
    "start_time": "2021-12-13T12:35:58.887Z"
   },
   {
    "duration": -708,
    "start_time": "2021-12-13T12:35:58.896Z"
   },
   {
    "duration": -721,
    "start_time": "2021-12-13T12:35:58.910Z"
   },
   {
    "duration": -732,
    "start_time": "2021-12-13T12:35:58.923Z"
   },
   {
    "duration": -777,
    "start_time": "2021-12-13T12:35:58.969Z"
   },
   {
    "duration": -785,
    "start_time": "2021-12-13T12:35:58.977Z"
   },
   {
    "duration": 4,
    "start_time": "2021-12-13T12:37:31.621Z"
   },
   {
    "duration": 68,
    "start_time": "2021-12-13T12:37:31.627Z"
   },
   {
    "duration": 35,
    "start_time": "2021-12-13T12:37:31.697Z"
   },
   {
    "duration": 508,
    "start_time": "2021-12-13T12:37:31.734Z"
   },
   {
    "duration": -583,
    "start_time": "2021-12-13T12:37:32.828Z"
   },
   {
    "duration": -656,
    "start_time": "2021-12-13T12:37:32.902Z"
   },
   {
    "duration": -668,
    "start_time": "2021-12-13T12:37:32.915Z"
   },
   {
    "duration": -683,
    "start_time": "2021-12-13T12:37:32.932Z"
   },
   {
    "duration": -694,
    "start_time": "2021-12-13T12:37:32.944Z"
   },
   {
    "duration": -702,
    "start_time": "2021-12-13T12:37:32.953Z"
   },
   {
    "duration": -714,
    "start_time": "2021-12-13T12:37:32.967Z"
   },
   {
    "duration": -723,
    "start_time": "2021-12-13T12:37:32.977Z"
   },
   {
    "duration": -733,
    "start_time": "2021-12-13T12:37:32.989Z"
   },
   {
    "duration": -791,
    "start_time": "2021-12-13T12:37:33.048Z"
   },
   {
    "duration": -803,
    "start_time": "2021-12-13T12:37:33.061Z"
   },
   {
    "duration": 449,
    "start_time": "2021-12-13T12:40:01.245Z"
   },
   {
    "duration": 60,
    "start_time": "2021-12-13T12:40:01.696Z"
   },
   {
    "duration": 37,
    "start_time": "2021-12-13T12:40:01.758Z"
   },
   {
    "duration": 967,
    "start_time": "2021-12-13T12:40:01.797Z"
   },
   {
    "duration": 21,
    "start_time": "2021-12-13T12:40:02.766Z"
   },
   {
    "duration": 6,
    "start_time": "2021-12-13T12:40:02.789Z"
   },
   {
    "duration": 766,
    "start_time": "2021-12-13T12:40:02.797Z"
   },
   {
    "duration": 78217,
    "start_time": "2021-12-13T12:40:03.566Z"
   },
   {
    "duration": 29,
    "start_time": "2021-12-13T12:41:21.784Z"
   },
   {
    "duration": 77,
    "start_time": "2021-12-13T12:41:21.814Z"
   },
   {
    "duration": 685,
    "start_time": "2021-12-13T12:41:21.893Z"
   },
   {
    "duration": -512,
    "start_time": "2021-12-13T12:41:23.092Z"
   },
   {
    "duration": -520,
    "start_time": "2021-12-13T12:41:23.100Z"
   },
   {
    "duration": -528,
    "start_time": "2021-12-13T12:41:23.109Z"
   },
   {
    "duration": -534,
    "start_time": "2021-12-13T12:41:23.116Z"
   },
   {
    "duration": 4,
    "start_time": "2021-12-13T12:42:34.869Z"
   },
   {
    "duration": 61,
    "start_time": "2021-12-13T12:42:34.875Z"
   },
   {
    "duration": 40,
    "start_time": "2021-12-13T12:42:34.938Z"
   },
   {
    "duration": 585,
    "start_time": "2021-12-13T12:42:34.980Z"
   },
   {
    "duration": 109,
    "start_time": "2021-12-13T12:42:35.567Z"
   },
   {
    "duration": 5,
    "start_time": "2021-12-13T12:42:35.678Z"
   },
   {
    "duration": 28,
    "start_time": "2021-12-13T12:42:35.685Z"
   },
   {
    "duration": 148,
    "start_time": "2021-12-13T12:42:35.715Z"
   },
   {
    "duration": 116,
    "start_time": "2021-12-13T12:42:35.872Z"
   },
   {
    "duration": 458,
    "start_time": "2021-12-13T12:42:36.062Z"
   },
   {
    "duration": 29,
    "start_time": "2021-12-13T12:43:25.763Z"
   },
   {
    "duration": 455,
    "start_time": "2021-12-13T12:43:25.863Z"
   },
   {
    "duration": 50537,
    "start_time": "2021-12-13T12:43:26.320Z"
   },
   {
    "duration": 264,
    "start_time": "2021-12-13T12:44:16.859Z"
   },
   {
    "duration": 41,
    "start_time": "2021-12-13T12:44:17.125Z"
   },
   {
    "duration": 4,
    "start_time": "2021-12-13T12:48:28.597Z"
   },
   {
    "duration": 61,
    "start_time": "2021-12-13T12:48:28.603Z"
   },
   {
    "duration": 35,
    "start_time": "2021-12-13T12:48:28.666Z"
   },
   {
    "duration": 971,
    "start_time": "2021-12-13T12:48:28.703Z"
   },
   {
    "duration": 191,
    "start_time": "2021-12-13T12:48:29.677Z"
   },
   {
    "duration": 4,
    "start_time": "2021-12-13T12:48:29.870Z"
   },
   {
    "duration": 28,
    "start_time": "2021-12-13T12:48:29.877Z"
   },
   {
    "duration": 83,
    "start_time": "2021-12-13T12:48:29.908Z"
   },
   {
    "duration": 458,
    "start_time": "2021-12-13T12:48:29.993Z"
   },
   {
    "duration": -1619,
    "start_time": "2021-12-13T12:48:32.072Z"
   },
   {
    "duration": -1626,
    "start_time": "2021-12-13T12:48:32.080Z"
   },
   {
    "duration": -1636,
    "start_time": "2021-12-13T12:48:32.091Z"
   },
   {
    "duration": -1697,
    "start_time": "2021-12-13T12:48:32.153Z"
   },
   {
    "duration": 4,
    "start_time": "2021-12-13T12:48:44.583Z"
   },
   {
    "duration": 62,
    "start_time": "2021-12-13T12:48:44.589Z"
   },
   {
    "duration": 35,
    "start_time": "2021-12-13T12:48:44.653Z"
   },
   {
    "duration": 488,
    "start_time": "2021-12-13T12:48:44.690Z"
   },
   {
    "duration": 105,
    "start_time": "2021-12-13T12:48:45.264Z"
   },
   {
    "duration": 6,
    "start_time": "2021-12-13T12:48:45.371Z"
   },
   {
    "duration": 33,
    "start_time": "2021-12-13T12:48:45.379Z"
   },
   {
    "duration": 83,
    "start_time": "2021-12-13T12:48:45.415Z"
   },
   {
    "duration": 164,
    "start_time": "2021-12-13T12:48:45.501Z"
   },
   {
    "duration": -1357,
    "start_time": "2021-12-13T12:48:47.024Z"
   },
   {
    "duration": -1361,
    "start_time": "2021-12-13T12:48:47.029Z"
   },
   {
    "duration": -1368,
    "start_time": "2021-12-13T12:48:47.037Z"
   },
   {
    "duration": -1372,
    "start_time": "2021-12-13T12:48:47.042Z"
   },
   {
    "duration": 4,
    "start_time": "2021-12-13T12:48:53.861Z"
   },
   {
    "duration": 58,
    "start_time": "2021-12-13T12:48:53.869Z"
   },
   {
    "duration": 35,
    "start_time": "2021-12-13T12:48:53.929Z"
   },
   {
    "duration": 758,
    "start_time": "2021-12-13T12:48:57.919Z"
   },
   {
    "duration": 192,
    "start_time": "2021-12-13T12:48:58.679Z"
   },
   {
    "duration": 5,
    "start_time": "2021-12-13T12:48:58.873Z"
   },
   {
    "duration": 33,
    "start_time": "2021-12-13T12:48:58.880Z"
   },
   {
    "duration": 55,
    "start_time": "2021-12-13T12:48:58.914Z"
   },
   {
    "duration": 590,
    "start_time": "2021-12-13T12:48:58.971Z"
   },
   {
    "duration": -3026,
    "start_time": "2021-12-13T12:49:02.589Z"
   },
   {
    "duration": -3028,
    "start_time": "2021-12-13T12:49:02.592Z"
   },
   {
    "duration": -3031,
    "start_time": "2021-12-13T12:49:02.596Z"
   },
   {
    "duration": -3033,
    "start_time": "2021-12-13T12:49:02.599Z"
   },
   {
    "duration": 4,
    "start_time": "2021-12-13T12:49:33.787Z"
   },
   {
    "duration": 61,
    "start_time": "2021-12-13T12:49:33.796Z"
   },
   {
    "duration": 34,
    "start_time": "2021-12-13T12:49:33.859Z"
   },
   {
    "duration": 773,
    "start_time": "2021-12-13T12:49:33.896Z"
   },
   {
    "duration": 116,
    "start_time": "2021-12-13T12:49:34.671Z"
   },
   {
    "duration": 5,
    "start_time": "2021-12-13T12:49:34.789Z"
   },
   {
    "duration": 30,
    "start_time": "2021-12-13T12:49:34.795Z"
   },
   {
    "duration": 142,
    "start_time": "2021-12-13T12:49:34.827Z"
   },
   {
    "duration": 119,
    "start_time": "2021-12-13T12:49:34.972Z"
   },
   {
    "duration": 459,
    "start_time": "2021-12-13T12:49:35.169Z"
   },
   {
    "duration": 50498,
    "start_time": "2021-12-13T12:49:35.629Z"
   },
   {
    "duration": 300,
    "start_time": "2021-12-13T12:50:26.128Z"
   },
   {
    "duration": 44,
    "start_time": "2021-12-13T12:50:26.430Z"
   },
   {
    "duration": 4,
    "start_time": "2021-12-13T12:59:13.120Z"
   },
   {
    "duration": 59,
    "start_time": "2021-12-13T12:59:13.129Z"
   },
   {
    "duration": 37,
    "start_time": "2021-12-13T12:59:13.189Z"
   },
   {
    "duration": 1238,
    "start_time": "2021-12-13T12:59:13.228Z"
   },
   {
    "duration": 107,
    "start_time": "2021-12-13T12:59:14.468Z"
   },
   {
    "duration": 5,
    "start_time": "2021-12-13T12:59:14.585Z"
   },
   {
    "duration": 32,
    "start_time": "2021-12-13T12:59:14.592Z"
   },
   {
    "duration": 74,
    "start_time": "2021-12-13T12:59:14.626Z"
   },
   {
    "duration": 401,
    "start_time": "2021-12-13T12:59:14.765Z"
   },
   {
    "duration": -602,
    "start_time": "2021-12-13T12:59:15.770Z"
   },
   {
    "duration": -610,
    "start_time": "2021-12-13T12:59:15.779Z"
   },
   {
    "duration": -613,
    "start_time": "2021-12-13T12:59:15.783Z"
   },
   {
    "duration": -614,
    "start_time": "2021-12-13T12:59:15.786Z"
   },
   {
    "duration": 4,
    "start_time": "2021-12-13T12:59:40.055Z"
   },
   {
    "duration": 79,
    "start_time": "2021-12-13T12:59:40.061Z"
   },
   {
    "duration": 45,
    "start_time": "2021-12-13T12:59:40.143Z"
   },
   {
    "duration": 583,
    "start_time": "2021-12-13T12:59:40.190Z"
   },
   {
    "duration": 198,
    "start_time": "2021-12-13T12:59:40.775Z"
   },
   {
    "duration": 5,
    "start_time": "2021-12-13T12:59:40.975Z"
   },
   {
    "duration": 30,
    "start_time": "2021-12-13T12:59:40.982Z"
   },
   {
    "duration": 82,
    "start_time": "2021-12-13T12:59:41.013Z"
   },
   {
    "duration": 188,
    "start_time": "2021-12-13T12:59:41.098Z"
   },
   {
    "duration": 469,
    "start_time": "2021-12-13T12:59:41.365Z"
   },
   {
    "duration": 273,
    "start_time": "2021-12-13T12:59:41.836Z"
   },
   {
    "duration": -2349,
    "start_time": "2021-12-13T12:59:44.461Z"
   },
   {
    "duration": -2359,
    "start_time": "2021-12-13T12:59:44.472Z"
   },
   {
    "duration": 4,
    "start_time": "2021-12-13T13:00:00.207Z"
   },
   {
    "duration": 73,
    "start_time": "2021-12-13T13:00:00.215Z"
   },
   {
    "duration": 38,
    "start_time": "2021-12-13T13:00:00.290Z"
   },
   {
    "duration": 546,
    "start_time": "2021-12-13T13:00:00.330Z"
   },
   {
    "duration": 100,
    "start_time": "2021-12-13T13:00:00.878Z"
   },
   {
    "duration": 25,
    "start_time": "2021-12-13T13:00:00.980Z"
   },
   {
    "duration": 77,
    "start_time": "2021-12-13T13:00:01.007Z"
   },
   {
    "duration": 148,
    "start_time": "2021-12-13T13:00:01.915Z"
   },
   {
    "duration": 299,
    "start_time": "2021-12-13T13:00:02.066Z"
   },
   {
    "duration": 801,
    "start_time": "2021-12-13T13:00:02.368Z"
   },
   {
    "duration": 61050,
    "start_time": "2021-12-13T13:00:03.171Z"
   },
   {
    "duration": 310,
    "start_time": "2021-12-13T13:01:04.223Z"
   },
   {
    "duration": 43,
    "start_time": "2021-12-13T13:01:04.535Z"
   },
   {
    "duration": 4,
    "start_time": "2021-12-13T13:06:59.879Z"
   },
   {
    "duration": 66,
    "start_time": "2021-12-13T13:06:59.888Z"
   },
   {
    "duration": 37,
    "start_time": "2021-12-13T13:06:59.956Z"
   },
   {
    "duration": 782,
    "start_time": "2021-12-13T13:06:59.995Z"
   },
   {
    "duration": 99,
    "start_time": "2021-12-13T13:07:00.779Z"
   },
   {
    "duration": 7,
    "start_time": "2021-12-13T13:07:00.964Z"
   },
   {
    "duration": 45,
    "start_time": "2021-12-13T13:07:00.973Z"
   },
   {
    "duration": 76,
    "start_time": "2021-12-13T13:07:01.021Z"
   },
   {
    "duration": 264,
    "start_time": "2021-12-13T13:07:01.102Z"
   },
   {
    "duration": 42793,
    "start_time": "2021-12-13T13:07:01.370Z"
   },
   {
    "duration": 360,
    "start_time": "2021-12-13T13:07:44.166Z"
   },
   {
    "duration": 39,
    "start_time": "2021-12-13T13:07:44.528Z"
   },
   {
    "duration": 4,
    "start_time": "2021-12-13T13:09:12.547Z"
   },
   {
    "duration": 62,
    "start_time": "2021-12-13T13:09:12.554Z"
   },
   {
    "duration": 45,
    "start_time": "2021-12-13T13:09:12.617Z"
   },
   {
    "duration": 500,
    "start_time": "2021-12-13T13:09:12.665Z"
   },
   {
    "duration": 108,
    "start_time": "2021-12-13T13:09:13.168Z"
   },
   {
    "duration": 7,
    "start_time": "2021-12-13T13:09:13.277Z"
   },
   {
    "duration": 30,
    "start_time": "2021-12-13T13:09:13.285Z"
   },
   {
    "duration": 78,
    "start_time": "2021-12-13T13:09:13.740Z"
   },
   {
    "duration": 204,
    "start_time": "2021-12-13T13:09:13.865Z"
   },
   {
    "duration": 42692,
    "start_time": "2021-12-13T13:09:14.072Z"
   },
   {
    "duration": 263,
    "start_time": "2021-12-13T13:09:56.766Z"
   },
   {
    "duration": 38,
    "start_time": "2021-12-13T13:09:57.030Z"
   },
   {
    "duration": 4,
    "start_time": "2021-12-13T13:13:49.809Z"
   },
   {
    "duration": 95,
    "start_time": "2021-12-13T13:13:49.817Z"
   },
   {
    "duration": 37,
    "start_time": "2021-12-13T13:13:49.915Z"
   },
   {
    "duration": 917,
    "start_time": "2021-12-13T13:13:49.954Z"
   },
   {
    "duration": 89,
    "start_time": "2021-12-13T13:13:50.874Z"
   },
   {
    "duration": 6,
    "start_time": "2021-12-13T13:13:50.966Z"
   },
   {
    "duration": 32,
    "start_time": "2021-12-13T13:13:50.974Z"
   },
   {
    "duration": 79,
    "start_time": "2021-12-13T13:13:51.008Z"
   },
   {
    "duration": 275,
    "start_time": "2021-12-13T13:13:51.090Z"
   },
   {
    "duration": 42700,
    "start_time": "2021-12-13T13:13:51.368Z"
   },
   {
    "duration": 47854,
    "start_time": "2021-12-13T13:14:34.071Z"
   },
   {
    "duration": 289,
    "start_time": "2021-12-13T13:15:21.927Z"
   },
   {
    "duration": 207,
    "start_time": "2021-12-13T13:15:22.218Z"
   },
   {
    "duration": 125,
    "start_time": "2021-12-13T13:16:02.340Z"
   },
   {
    "duration": 3,
    "start_time": "2021-12-13T13:26:25.256Z"
   },
   {
    "duration": 58,
    "start_time": "2021-12-13T13:26:25.263Z"
   },
   {
    "duration": 45,
    "start_time": "2021-12-13T13:26:25.322Z"
   },
   {
    "duration": 896,
    "start_time": "2021-12-13T13:26:25.369Z"
   },
   {
    "duration": 105,
    "start_time": "2021-12-13T13:26:26.268Z"
   },
   {
    "duration": 6,
    "start_time": "2021-12-13T13:26:26.375Z"
   },
   {
    "duration": 33,
    "start_time": "2021-12-13T13:26:26.383Z"
   },
   {
    "duration": 83,
    "start_time": "2021-12-13T13:26:26.417Z"
   },
   {
    "duration": 190,
    "start_time": "2021-12-13T13:26:26.503Z"
   },
   {
    "duration": 41699,
    "start_time": "2021-12-13T13:26:26.766Z"
   },
   {
    "duration": 48988,
    "start_time": "2021-12-13T13:27:08.468Z"
   },
   {
    "duration": 252,
    "start_time": "2021-12-13T13:27:57.458Z"
   },
   {
    "duration": 434,
    "start_time": "2021-12-13T13:27:57.712Z"
   },
   {
    "duration": 4,
    "start_time": "2021-12-13T13:28:22.964Z"
   },
   {
    "duration": 61,
    "start_time": "2021-12-13T13:28:22.970Z"
   },
   {
    "duration": 44,
    "start_time": "2021-12-13T13:28:23.034Z"
   },
   {
    "duration": 690,
    "start_time": "2021-12-13T13:28:23.079Z"
   },
   {
    "duration": 108,
    "start_time": "2021-12-13T13:28:23.772Z"
   },
   {
    "duration": 12,
    "start_time": "2021-12-13T13:28:23.882Z"
   },
   {
    "duration": 34,
    "start_time": "2021-12-13T13:28:23.897Z"
   },
   {
    "duration": 80,
    "start_time": "2021-12-13T13:28:23.934Z"
   },
   {
    "duration": 204,
    "start_time": "2021-12-13T13:28:24.065Z"
   },
   {
    "duration": 42318,
    "start_time": "2021-12-13T13:28:24.271Z"
   },
   {
    "duration": 50738,
    "start_time": "2021-12-13T13:29:06.592Z"
   },
   {
    "duration": 288,
    "start_time": "2021-12-13T13:29:57.331Z"
   },
   {
    "duration": 445,
    "start_time": "2021-12-13T13:29:57.620Z"
   },
   {
    "duration": 134,
    "start_time": "2021-12-13T13:34:20.930Z"
   },
   {
    "duration": 82,
    "start_time": "2021-12-13T13:38:02.680Z"
   },
   {
    "duration": 433,
    "start_time": "2021-12-13T13:38:09.790Z"
   },
   {
    "duration": 5,
    "start_time": "2021-12-13T13:38:17.874Z"
   },
   {
    "duration": 61,
    "start_time": "2021-12-13T13:38:17.881Z"
   },
   {
    "duration": 36,
    "start_time": "2021-12-13T13:38:17.944Z"
   },
   {
    "duration": 882,
    "start_time": "2021-12-13T13:38:17.982Z"
   },
   {
    "duration": 109,
    "start_time": "2021-12-13T13:38:18.866Z"
   },
   {
    "duration": 6,
    "start_time": "2021-12-13T13:38:18.977Z"
   },
   {
    "duration": 36,
    "start_time": "2021-12-13T13:38:18.984Z"
   },
   {
    "duration": 80,
    "start_time": "2021-12-13T13:38:19.022Z"
   },
   {
    "duration": 197,
    "start_time": "2021-12-13T13:38:19.166Z"
   },
   {
    "duration": 16952,
    "start_time": "2021-12-13T13:38:19.366Z"
   },
   {
    "duration": -442,
    "start_time": "2021-12-13T13:38:36.762Z"
   },
   {
    "duration": -451,
    "start_time": "2021-12-13T13:38:36.772Z"
   },
   {
    "duration": -456,
    "start_time": "2021-12-13T13:38:36.778Z"
   },
   {
    "duration": 4,
    "start_time": "2021-12-13T13:38:53.679Z"
   },
   {
    "duration": 73,
    "start_time": "2021-12-13T13:38:53.687Z"
   },
   {
    "duration": 37,
    "start_time": "2021-12-13T13:38:53.763Z"
   },
   {
    "duration": 770,
    "start_time": "2021-12-13T13:38:53.802Z"
   },
   {
    "duration": 109,
    "start_time": "2021-12-13T13:38:54.665Z"
   },
   {
    "duration": 6,
    "start_time": "2021-12-13T13:38:54.775Z"
   },
   {
    "duration": 34,
    "start_time": "2021-12-13T13:38:54.783Z"
   },
   {
    "duration": 146,
    "start_time": "2021-12-13T13:38:54.819Z"
   },
   {
    "duration": 196,
    "start_time": "2021-12-13T13:38:54.967Z"
   },
   {
    "duration": 355,
    "start_time": "2021-12-13T13:38:55.167Z"
   },
   {
    "duration": 240,
    "start_time": "2021-12-13T13:38:55.524Z"
   },
   {
    "duration": 621,
    "start_time": "2021-12-13T13:39:32.532Z"
   },
   {
    "duration": 648,
    "start_time": "2021-12-13T13:39:45.611Z"
   },
   {
    "duration": 4,
    "start_time": "2021-12-13T14:00:56.758Z"
   },
   {
    "duration": 82,
    "start_time": "2021-12-13T14:00:56.764Z"
   },
   {
    "duration": 36,
    "start_time": "2021-12-13T14:00:56.849Z"
   },
   {
    "duration": 1378,
    "start_time": "2021-12-13T14:00:56.887Z"
   },
   {
    "duration": 110,
    "start_time": "2021-12-13T14:00:58.268Z"
   },
   {
    "duration": 5,
    "start_time": "2021-12-13T14:00:58.380Z"
   },
   {
    "duration": 1043,
    "start_time": "2021-12-13T14:00:58.387Z"
   },
   {
    "duration": 80803,
    "start_time": "2021-12-13T14:00:59.433Z"
   },
   {
    "duration": 39,
    "start_time": "2021-12-13T14:02:20.239Z"
   },
   {
    "duration": 84,
    "start_time": "2021-12-13T14:02:20.280Z"
   },
   {
    "duration": 121,
    "start_time": "2021-12-13T14:02:20.367Z"
   },
   {
    "duration": 41726,
    "start_time": "2021-12-13T14:02:20.565Z"
   },
   {
    "duration": 49185,
    "start_time": "2021-12-13T14:03:02.293Z"
   },
   {
    "duration": 240,
    "start_time": "2021-12-13T14:03:51.480Z"
   },
   {
    "duration": 616,
    "start_time": "2021-12-13T14:03:51.721Z"
   }
  ],
  "kernelspec": {
   "display_name": "Python 3",
   "language": "python",
   "name": "python3"
  },
  "language_info": {
   "codemirror_mode": {
    "name": "ipython",
    "version": 3
   },
   "file_extension": ".py",
   "mimetype": "text/x-python",
   "name": "python",
   "nbconvert_exporter": "python",
   "pygments_lexer": "ipython3",
   "version": "3.9.7"
  },
  "toc": {
   "base_numbering": 1,
   "nav_menu": {},
   "number_sections": true,
   "sideBar": true,
   "skip_h1_title": false,
   "title_cell": "Содержание",
   "title_sidebar": "Содержание",
   "toc_cell": true,
   "toc_position": {
    "height": "calc(100% - 180px)",
    "left": "10px",
    "top": "150px",
    "width": "366.391px"
   },
   "toc_section_display": true,
   "toc_window_display": true
  }
 },
 "nbformat": 4,
 "nbformat_minor": 2
}
